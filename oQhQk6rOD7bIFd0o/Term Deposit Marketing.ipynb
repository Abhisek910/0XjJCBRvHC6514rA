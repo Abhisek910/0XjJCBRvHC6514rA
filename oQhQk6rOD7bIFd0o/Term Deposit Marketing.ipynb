{
 "cells": [
  {
   "cell_type": "markdown",
   "id": "c08867ff",
   "metadata": {},
   "source": [
    "**Background:**\n",
    "\n",
    "We are a small startup focusing mainly on providing machine learning solutions in the European banking market. We work on a variety of problems including fraud detection, sentiment classification and customer intention prediction and classification.\n",
    "\n",
    "We are interested in developing a robust machine learning system that leverages information coming from call center data.\n",
    "\n",
    "Ultimately, we are looking for ways to improve the success rate for calls made to customers for any product that our clients offer. Towards this goal we are working on designing an ever evolving machine learning product that offers high success outcomes while offering interpretability for our clients to make informed decisions.\n",
    "\n",
    "**Data Description:**\n",
    "\n",
    "The data comes from direct marketing efforts of a European banking institution. The marketing campaign involves making a phone call to a customer, often multiple times to ensure a product subscription, in this case a term deposit. Term deposits are usually short-term deposits with maturities ranging from one month to a few years. The customer must understand when buying a term deposit that they can withdraw their funds only after the term ends. All customer information that might reveal personal information is removed due to privacy concerns.\n",
    "\n",
    "**Attributes:**\n",
    "\n",
    "* age : age of customer (numeric)\n",
    "\n",
    "* job : type of job (categorical)\n",
    "\n",
    "* marital : marital status (categorical)\n",
    "\n",
    "* education (categorical)\n",
    "\n",
    "* default: has credit in default? (binary)\n",
    "\n",
    "* balance: average yearly balance, in euros (numeric)\n",
    "\n",
    "* housing: has a housing loan? (binary)\n",
    "\n",
    "* loan: has personal loan? (binary)\n",
    "\n",
    "* contact: contact communication type (categorical)\n",
    "\n",
    "* day: last contact day of the month (numeric)\n",
    "\n",
    "* month: last contact month of year (categorical)\n",
    "\n",
    "* duration: last contact duration, in seconds (numeric)\n",
    "\n",
    "* campaign: number of contacts performed during this campaign and for this client (numeric, includes last contact)\n",
    "\n",
    "**Output (desired target):**\n",
    "\n",
    "* y - has the client subscribed to a term deposit? (binary)\n",
    "\n",
    "**Download Data:**\n",
    "\n",
    "https://drive.google.com/file/d/1EW-XMnGfxn-qzGtGPa3v_C63Yqj2aGf7\n",
    "\n",
    "**Goal(s):**\n",
    "\n",
    "Predict if the customer will subscribe (yes/no) to a term deposit (variable y)"
   ]
  },
  {
   "cell_type": "code",
   "execution_count": 1,
   "id": "32cf1ac5",
   "metadata": {},
   "outputs": [],
   "source": [
    "import numpy as np\n",
    "import matplotlib.pyplot as plt\n",
    "import seaborn as sns\n",
    "sns.set()\n",
    "import pandas as pd\n",
    "import warnings\n",
    "warnings.filterwarnings(\"ignore\")"
   ]
  },
  {
   "cell_type": "code",
   "execution_count": 2,
   "id": "e04d1d22",
   "metadata": {},
   "outputs": [
    {
     "data": {
      "text/html": [
       "<div>\n",
       "<style scoped>\n",
       "    .dataframe tbody tr th:only-of-type {\n",
       "        vertical-align: middle;\n",
       "    }\n",
       "\n",
       "    .dataframe tbody tr th {\n",
       "        vertical-align: top;\n",
       "    }\n",
       "\n",
       "    .dataframe thead th {\n",
       "        text-align: right;\n",
       "    }\n",
       "</style>\n",
       "<table border=\"1\" class=\"dataframe\">\n",
       "  <thead>\n",
       "    <tr style=\"text-align: right;\">\n",
       "      <th></th>\n",
       "      <th>age</th>\n",
       "      <th>job</th>\n",
       "      <th>marital</th>\n",
       "      <th>education</th>\n",
       "      <th>default</th>\n",
       "      <th>balance</th>\n",
       "      <th>housing</th>\n",
       "      <th>loan</th>\n",
       "      <th>contact</th>\n",
       "      <th>day</th>\n",
       "      <th>month</th>\n",
       "      <th>duration</th>\n",
       "      <th>campaign</th>\n",
       "      <th>y</th>\n",
       "    </tr>\n",
       "  </thead>\n",
       "  <tbody>\n",
       "    <tr>\n",
       "      <th>0</th>\n",
       "      <td>58</td>\n",
       "      <td>management</td>\n",
       "      <td>married</td>\n",
       "      <td>tertiary</td>\n",
       "      <td>no</td>\n",
       "      <td>2143</td>\n",
       "      <td>yes</td>\n",
       "      <td>no</td>\n",
       "      <td>unknown</td>\n",
       "      <td>5</td>\n",
       "      <td>may</td>\n",
       "      <td>261</td>\n",
       "      <td>1</td>\n",
       "      <td>no</td>\n",
       "    </tr>\n",
       "    <tr>\n",
       "      <th>1</th>\n",
       "      <td>44</td>\n",
       "      <td>technician</td>\n",
       "      <td>single</td>\n",
       "      <td>secondary</td>\n",
       "      <td>no</td>\n",
       "      <td>29</td>\n",
       "      <td>yes</td>\n",
       "      <td>no</td>\n",
       "      <td>unknown</td>\n",
       "      <td>5</td>\n",
       "      <td>may</td>\n",
       "      <td>151</td>\n",
       "      <td>1</td>\n",
       "      <td>no</td>\n",
       "    </tr>\n",
       "    <tr>\n",
       "      <th>2</th>\n",
       "      <td>33</td>\n",
       "      <td>entrepreneur</td>\n",
       "      <td>married</td>\n",
       "      <td>secondary</td>\n",
       "      <td>no</td>\n",
       "      <td>2</td>\n",
       "      <td>yes</td>\n",
       "      <td>yes</td>\n",
       "      <td>unknown</td>\n",
       "      <td>5</td>\n",
       "      <td>may</td>\n",
       "      <td>76</td>\n",
       "      <td>1</td>\n",
       "      <td>no</td>\n",
       "    </tr>\n",
       "    <tr>\n",
       "      <th>3</th>\n",
       "      <td>47</td>\n",
       "      <td>blue-collar</td>\n",
       "      <td>married</td>\n",
       "      <td>unknown</td>\n",
       "      <td>no</td>\n",
       "      <td>1506</td>\n",
       "      <td>yes</td>\n",
       "      <td>no</td>\n",
       "      <td>unknown</td>\n",
       "      <td>5</td>\n",
       "      <td>may</td>\n",
       "      <td>92</td>\n",
       "      <td>1</td>\n",
       "      <td>no</td>\n",
       "    </tr>\n",
       "    <tr>\n",
       "      <th>4</th>\n",
       "      <td>33</td>\n",
       "      <td>unknown</td>\n",
       "      <td>single</td>\n",
       "      <td>unknown</td>\n",
       "      <td>no</td>\n",
       "      <td>1</td>\n",
       "      <td>no</td>\n",
       "      <td>no</td>\n",
       "      <td>unknown</td>\n",
       "      <td>5</td>\n",
       "      <td>may</td>\n",
       "      <td>198</td>\n",
       "      <td>1</td>\n",
       "      <td>no</td>\n",
       "    </tr>\n",
       "  </tbody>\n",
       "</table>\n",
       "</div>"
      ],
      "text/plain": [
       "   age           job  marital  education default  balance housing loan  \\\n",
       "0   58    management  married   tertiary      no     2143     yes   no   \n",
       "1   44    technician   single  secondary      no       29     yes   no   \n",
       "2   33  entrepreneur  married  secondary      no        2     yes  yes   \n",
       "3   47   blue-collar  married    unknown      no     1506     yes   no   \n",
       "4   33       unknown   single    unknown      no        1      no   no   \n",
       "\n",
       "   contact  day month  duration  campaign   y  \n",
       "0  unknown    5   may       261         1  no  \n",
       "1  unknown    5   may       151         1  no  \n",
       "2  unknown    5   may        76         1  no  \n",
       "3  unknown    5   may        92         1  no  \n",
       "4  unknown    5   may       198         1  no  "
      ]
     },
     "execution_count": 2,
     "metadata": {},
     "output_type": "execute_result"
    }
   ],
   "source": [
    "df=pd.read_csv(\"term-deposit-marketing-2020.csv\")\n",
    "df.head()"
   ]
  },
  {
   "cell_type": "code",
   "execution_count": 3,
   "id": "cf586413",
   "metadata": {},
   "outputs": [
    {
     "name": "stdout",
     "output_type": "stream",
     "text": [
      "Number of rows: 40000\n",
      "Number of columns: 14\n"
     ]
    }
   ],
   "source": [
    "exp = df.shape\n",
    "print(f\"Number of rows: {exp[0]}\\nNumber of columns: {exp[1]}\")"
   ]
  },
  {
   "cell_type": "code",
   "execution_count": 4,
   "id": "6394637a",
   "metadata": {},
   "outputs": [
    {
     "name": "stdout",
     "output_type": "stream",
     "text": [
      "<class 'pandas.core.frame.DataFrame'>\n",
      "RangeIndex: 40000 entries, 0 to 39999\n",
      "Data columns (total 14 columns):\n",
      " #   Column     Non-Null Count  Dtype \n",
      "---  ------     --------------  ----- \n",
      " 0   age        40000 non-null  int64 \n",
      " 1   job        40000 non-null  object\n",
      " 2   marital    40000 non-null  object\n",
      " 3   education  40000 non-null  object\n",
      " 4   default    40000 non-null  object\n",
      " 5   balance    40000 non-null  int64 \n",
      " 6   housing    40000 non-null  object\n",
      " 7   loan       40000 non-null  object\n",
      " 8   contact    40000 non-null  object\n",
      " 9   day        40000 non-null  int64 \n",
      " 10  month      40000 non-null  object\n",
      " 11  duration   40000 non-null  int64 \n",
      " 12  campaign   40000 non-null  int64 \n",
      " 13  y          40000 non-null  object\n",
      "dtypes: int64(5), object(9)\n",
      "memory usage: 4.3+ MB\n"
     ]
    }
   ],
   "source": [
    "\n",
    "df.info()"
   ]
  },
  {
   "cell_type": "code",
   "execution_count": 5,
   "id": "238f1d78",
   "metadata": {},
   "outputs": [
    {
     "data": {
      "text/html": [
       "<div>\n",
       "<style scoped>\n",
       "    .dataframe tbody tr th:only-of-type {\n",
       "        vertical-align: middle;\n",
       "    }\n",
       "\n",
       "    .dataframe tbody tr th {\n",
       "        vertical-align: top;\n",
       "    }\n",
       "\n",
       "    .dataframe thead th {\n",
       "        text-align: right;\n",
       "    }\n",
       "</style>\n",
       "<table border=\"1\" class=\"dataframe\">\n",
       "  <thead>\n",
       "    <tr style=\"text-align: right;\">\n",
       "      <th></th>\n",
       "      <th>age</th>\n",
       "      <th>balance</th>\n",
       "      <th>day</th>\n",
       "      <th>duration</th>\n",
       "      <th>campaign</th>\n",
       "    </tr>\n",
       "  </thead>\n",
       "  <tbody>\n",
       "    <tr>\n",
       "      <th>count</th>\n",
       "      <td>40000.000000</td>\n",
       "      <td>40000.000000</td>\n",
       "      <td>40000.000000</td>\n",
       "      <td>40000.000000</td>\n",
       "      <td>40000.000000</td>\n",
       "    </tr>\n",
       "    <tr>\n",
       "      <th>mean</th>\n",
       "      <td>40.544600</td>\n",
       "      <td>1274.277550</td>\n",
       "      <td>16.017225</td>\n",
       "      <td>254.824300</td>\n",
       "      <td>2.882175</td>\n",
       "    </tr>\n",
       "    <tr>\n",
       "      <th>std</th>\n",
       "      <td>9.641776</td>\n",
       "      <td>2903.769716</td>\n",
       "      <td>8.278127</td>\n",
       "      <td>259.366498</td>\n",
       "      <td>3.239051</td>\n",
       "    </tr>\n",
       "    <tr>\n",
       "      <th>min</th>\n",
       "      <td>19.000000</td>\n",
       "      <td>-8019.000000</td>\n",
       "      <td>1.000000</td>\n",
       "      <td>0.000000</td>\n",
       "      <td>1.000000</td>\n",
       "    </tr>\n",
       "    <tr>\n",
       "      <th>25%</th>\n",
       "      <td>33.000000</td>\n",
       "      <td>54.000000</td>\n",
       "      <td>8.000000</td>\n",
       "      <td>100.000000</td>\n",
       "      <td>1.000000</td>\n",
       "    </tr>\n",
       "    <tr>\n",
       "      <th>50%</th>\n",
       "      <td>39.000000</td>\n",
       "      <td>407.000000</td>\n",
       "      <td>17.000000</td>\n",
       "      <td>175.000000</td>\n",
       "      <td>2.000000</td>\n",
       "    </tr>\n",
       "    <tr>\n",
       "      <th>75%</th>\n",
       "      <td>48.000000</td>\n",
       "      <td>1319.000000</td>\n",
       "      <td>21.000000</td>\n",
       "      <td>313.000000</td>\n",
       "      <td>3.000000</td>\n",
       "    </tr>\n",
       "    <tr>\n",
       "      <th>max</th>\n",
       "      <td>95.000000</td>\n",
       "      <td>102127.000000</td>\n",
       "      <td>31.000000</td>\n",
       "      <td>4918.000000</td>\n",
       "      <td>63.000000</td>\n",
       "    </tr>\n",
       "  </tbody>\n",
       "</table>\n",
       "</div>"
      ],
      "text/plain": [
       "                age        balance           day      duration      campaign\n",
       "count  40000.000000   40000.000000  40000.000000  40000.000000  40000.000000\n",
       "mean      40.544600    1274.277550     16.017225    254.824300      2.882175\n",
       "std        9.641776    2903.769716      8.278127    259.366498      3.239051\n",
       "min       19.000000   -8019.000000      1.000000      0.000000      1.000000\n",
       "25%       33.000000      54.000000      8.000000    100.000000      1.000000\n",
       "50%       39.000000     407.000000     17.000000    175.000000      2.000000\n",
       "75%       48.000000    1319.000000     21.000000    313.000000      3.000000\n",
       "max       95.000000  102127.000000     31.000000   4918.000000     63.000000"
      ]
     },
     "execution_count": 5,
     "metadata": {},
     "output_type": "execute_result"
    }
   ],
   "source": [
    "df.describe()"
   ]
  },
  {
   "cell_type": "markdown",
   "id": "02fb3d28",
   "metadata": {},
   "source": [
    "### Checking for null values in all columns"
   ]
  },
  {
   "cell_type": "code",
   "execution_count": 6,
   "id": "7ea6556e",
   "metadata": {
    "scrolled": true
   },
   "outputs": [
    {
     "data": {
      "text/plain": [
       "age          0\n",
       "job          0\n",
       "marital      0\n",
       "education    0\n",
       "default      0\n",
       "balance      0\n",
       "housing      0\n",
       "loan         0\n",
       "contact      0\n",
       "day          0\n",
       "month        0\n",
       "duration     0\n",
       "campaign     0\n",
       "y            0\n",
       "dtype: int64"
      ]
     },
     "execution_count": 6,
     "metadata": {},
     "output_type": "execute_result"
    }
   ],
   "source": [
    "df.isnull().sum()"
   ]
  },
  {
   "cell_type": "markdown",
   "id": "311c426b",
   "metadata": {},
   "source": [
    "**Univariate analysis**\n",
    "\n",
    "####  Age and Duration distribution"
   ]
  },
  {
   "cell_type": "code",
   "execution_count": 7,
   "id": "4a03642f",
   "metadata": {},
   "outputs": [
    {
     "data": {
      "image/png": "[encoded data removed]",
      "text/plain": [
       "<Figure size 864x576 with 2 Axes>"
      ]
     },
     "metadata": {},
     "output_type": "display_data"
    }
   ],
   "source": [
    "fig, axis=plt.subplots(nrows=1, ncols = 2, figsize=(12,8))\n",
    "df[\"age\"].plot.hist(ax=axis[0]).set(xlabel=\"Age\", title=\"Age distribution\")\n",
    "df[\"duration\"].plot.hist(ax=axis[1]).set(xlabel=\"Duration\", title=\"Duration distribution\")\n",
    "plt.tight_layout()\n",
    "plt.show();"
   ]
  },
  {
   "cell_type": "code",
   "execution_count": 8,
   "id": "32fbbd6d",
   "metadata": {},
   "outputs": [],
   "source": [
    "def count_on(on):\n",
    "    viz= sns.countplot(df[on],  palette= 'coolwarm')\n",
    "    viz.set(title= f'Count of {on}', xlabel= f'{on}')"
   ]
  },
  {
   "cell_type": "markdown",
   "id": "4b17f91c",
   "metadata": {},
   "source": [
    "### checking if the Target variable is balance\n"
   ]
  },
  {
   "cell_type": "code",
   "execution_count": 9,
   "id": "6d8310d1",
   "metadata": {},
   "outputs": [
    {
     "data": {
      "image/png": "[encoded data removed]",
      "text/plain": [
       "<Figure size 432x504 with 1 Axes>"
      ]
     },
     "metadata": {},
     "output_type": "display_data"
    }
   ],
   "source": [
    "plt.figure(figsize=(6,7))\n",
    "count_on(\"y\")"
   ]
  },
  {
   "cell_type": "markdown",
   "id": "ecbc0126",
   "metadata": {},
   "source": [
    "### Marital"
   ]
  },
  {
   "cell_type": "code",
   "execution_count": 10,
   "id": "0e5d57be",
   "metadata": {},
   "outputs": [
    {
     "data": {
      "image/png": "[encoded data removed]",
      "text/plain": [
       "<Figure size 648x576 with 1 Axes>"
      ]
     },
     "metadata": {},
     "output_type": "display_data"
    }
   ],
   "source": [
    "plt.figure(figsize= (9, 8))\n",
    "count_on('marital')"
   ]
  },
  {
   "cell_type": "code",
   "execution_count": 11,
   "id": "1cad29c8",
   "metadata": {},
   "outputs": [
    {
     "data": {
      "image/png": "[encoded data removed]",
      "text/plain": [
       "<Figure size 432x288 with 1 Axes>"
      ]
     },
     "metadata": {},
     "output_type": "display_data"
    }
   ],
   "source": [
    "sns.countplot(x= 'marital', data= df, hue= 'y');"
   ]
  },
  {
   "cell_type": "markdown",
   "id": "f8f91f42",
   "metadata": {},
   "source": [
    "### Education"
   ]
  },
  {
   "cell_type": "code",
   "execution_count": 12,
   "id": "d34f2f12",
   "metadata": {},
   "outputs": [
    {
     "name": "stdout",
     "output_type": "stream",
     "text": [
      "secondary    20993\n",
      "tertiary     11206\n",
      "primary       6270\n",
      "unknown       1531\n",
      "Name: education, dtype: int64\n"
     ]
    },
    {
     "data": {
      "text/plain": [
       "[Text(0, 0.5, 'Count'), Text(0.5, 0, 'Education')]"
      ]
     },
     "execution_count": 12,
     "metadata": {},
     "output_type": "execute_result"
    },
    {
     "data": {
      "image/png": "[encoded data removed]",
      "text/plain": [
       "<Figure size 720x360 with 1 Axes>"
      ]
     },
     "metadata": {},
     "output_type": "display_data"
    }
   ],
   "source": [
    "ed =df[\"education\"].value_counts()\n",
    "print(ed)\n",
    "plt.figure(figsize=(10,5))\n",
    "ed.plot.bar().set(ylabel=\"Count\", xlabel=\"Education\")"
   ]
  },
  {
   "cell_type": "markdown",
   "id": "d1eb1c56",
   "metadata": {},
   "source": [
    "### Job"
   ]
  },
  {
   "cell_type": "code",
   "execution_count": 13,
   "id": "b46d8c14",
   "metadata": {},
   "outputs": [
    {
     "name": "stdout",
     "output_type": "stream",
     "text": [
      "blue-collar      9383\n",
      "management       8166\n",
      "technician       6852\n",
      "admin            4483\n",
      "services         3910\n",
      "retired          1437\n",
      "self-employed    1414\n",
      "entrepreneur     1405\n",
      "unemployed       1104\n",
      "housemaid        1087\n",
      "student           524\n",
      "unknown           235\n",
      "Name: job, dtype: int64\n"
     ]
    },
    {
     "data": {
      "image/png": "[encoded data removed]",
      "text/plain": [
       "<Figure size 720x360 with 1 Axes>"
      ]
     },
     "metadata": {},
     "output_type": "display_data"
    }
   ],
   "source": [
    "print(df[\"job\"].value_counts())\n",
    "plt.figure(figsize=(10,5))\n",
    "df[\"job\"].value_counts(normalize=True).plot(kind=\"bar\").set(ylabel=\"Count\", xlabel=\"Job\");"
   ]
  },
  {
   "cell_type": "markdown",
   "id": "6b8d7f77",
   "metadata": {},
   "source": [
    "### Education VS Age and Target"
   ]
  },
  {
   "cell_type": "code",
   "execution_count": 14,
   "id": "0e3f188d",
   "metadata": {},
   "outputs": [
    {
     "data": {
      "image/png": "[encoded data removed]",
      "text/plain": [
       "<Figure size 432x288 with 1 Axes>"
      ]
     },
     "metadata": {},
     "output_type": "display_data"
    }
   ],
   "source": [
    "plot = sns.boxplot(x= \"education\", y=\"age\", hue=\"y\", data= df)\n",
    "plt.xticks( rotation=45, horizontalalignment='right' )\n",
    "plot.set_title(f'Box plot of Education and Age');"
   ]
  },
  {
   "cell_type": "markdown",
   "id": "7a3d7440",
   "metadata": {},
   "source": [
    "## Marital VS Age & Target"
   ]
  },
  {
   "cell_type": "code",
   "execution_count": 15,
   "id": "287756c2",
   "metadata": {},
   "outputs": [
    {
     "data": {
      "image/png": "[encoded data removed]",
      "text/plain": [
       "<Figure size 432x288 with 1 Axes>"
      ]
     },
     "metadata": {},
     "output_type": "display_data"
    }
   ],
   "source": [
    "plot = sns.boxplot(x= \"marital\", y=\"age\", hue=\"y\", data= df)\n",
    "plt.xticks( rotation=45, horizontalalignment='right' )\n",
    "plot.set_title(f'Box plot of Marital and Age');"
   ]
  },
  {
   "cell_type": "markdown",
   "id": "2d0cf9d5",
   "metadata": {},
   "source": [
    "### Preprocessing"
   ]
  },
  {
   "cell_type": "code",
   "execution_count": 16,
   "id": "ae940e66",
   "metadata": {},
   "outputs": [],
   "source": [
    "from sklearn.preprocessing import LabelEncoder\n",
    "lbe = LabelEncoder()\n",
    "df.job = lbe.fit_transform(df.job)\n",
    "df.marital =lbe.fit_transform(df.marital)\n",
    "df.education =lbe.fit_transform(df.education)\n",
    "df.default =lbe.fit_transform(df.default)\n",
    "df.housing =lbe.fit_transform(df.housing)\n",
    "df.loan = lbe.fit_transform(df.loan)\n",
    "df.contact =lbe.fit_transform(df.contact)\n",
    "df.month = lbe.fit_transform(df.month)\n",
    "df.y  =lbe.fit_transform(df.y)"
   ]
  },
  {
   "cell_type": "code",
   "execution_count": 17,
   "id": "dce89884",
   "metadata": {},
   "outputs": [
    {
     "data": {
      "image/png": "[encoded data removed]",
      "text/plain": [
       "<Figure size 432x288 with 2 Axes>"
      ]
     },
     "metadata": {},
     "output_type": "display_data"
    }
   ],
   "source": [
    "sns.heatmap(df.corr(), cmap=\"BuGn\");"
   ]
  },
  {
   "cell_type": "code",
   "execution_count": 18,
   "id": "1285f0d0",
   "metadata": {},
   "outputs": [
    {
     "data": {
      "image/png": "[encoded data removed]",
      "text/plain": [
       "<Figure size 1440x1008 with 16 Axes>"
      ]
     },
     "metadata": {},
     "output_type": "display_data"
    }
   ],
   "source": [
    "df.hist(figsize=(20,14))\n",
    "plt.show();"
   ]
  },
  {
   "cell_type": "code",
   "execution_count": 19,
   "id": "963cb13d",
   "metadata": {},
   "outputs": [
    {
     "data": {
      "text/html": [
       "<div>\n",
       "<style scoped>\n",
       "    .dataframe tbody tr th:only-of-type {\n",
       "        vertical-align: middle;\n",
       "    }\n",
       "\n",
       "    .dataframe tbody tr th {\n",
       "        vertical-align: top;\n",
       "    }\n",
       "\n",
       "    .dataframe thead th {\n",
       "        text-align: right;\n",
       "    }\n",
       "</style>\n",
       "<table border=\"1\" class=\"dataframe\">\n",
       "  <thead>\n",
       "    <tr style=\"text-align: right;\">\n",
       "      <th></th>\n",
       "      <th>age</th>\n",
       "      <th>job</th>\n",
       "      <th>marital</th>\n",
       "      <th>education</th>\n",
       "      <th>default</th>\n",
       "      <th>balance</th>\n",
       "      <th>housing</th>\n",
       "      <th>loan</th>\n",
       "      <th>contact</th>\n",
       "      <th>day</th>\n",
       "      <th>month</th>\n",
       "      <th>duration</th>\n",
       "      <th>campaign</th>\n",
       "      <th>y</th>\n",
       "    </tr>\n",
       "  </thead>\n",
       "  <tbody>\n",
       "    <tr>\n",
       "      <th>0</th>\n",
       "      <td>58</td>\n",
       "      <td>4</td>\n",
       "      <td>1</td>\n",
       "      <td>2</td>\n",
       "      <td>0</td>\n",
       "      <td>2143</td>\n",
       "      <td>1</td>\n",
       "      <td>0</td>\n",
       "      <td>2</td>\n",
       "      <td>5</td>\n",
       "      <td>8</td>\n",
       "      <td>261</td>\n",
       "      <td>1</td>\n",
       "      <td>0</td>\n",
       "    </tr>\n",
       "    <tr>\n",
       "      <th>1</th>\n",
       "      <td>44</td>\n",
       "      <td>9</td>\n",
       "      <td>2</td>\n",
       "      <td>1</td>\n",
       "      <td>0</td>\n",
       "      <td>29</td>\n",
       "      <td>1</td>\n",
       "      <td>0</td>\n",
       "      <td>2</td>\n",
       "      <td>5</td>\n",
       "      <td>8</td>\n",
       "      <td>151</td>\n",
       "      <td>1</td>\n",
       "      <td>0</td>\n",
       "    </tr>\n",
       "    <tr>\n",
       "      <th>2</th>\n",
       "      <td>33</td>\n",
       "      <td>2</td>\n",
       "      <td>1</td>\n",
       "      <td>1</td>\n",
       "      <td>0</td>\n",
       "      <td>2</td>\n",
       "      <td>1</td>\n",
       "      <td>1</td>\n",
       "      <td>2</td>\n",
       "      <td>5</td>\n",
       "      <td>8</td>\n",
       "      <td>76</td>\n",
       "      <td>1</td>\n",
       "      <td>0</td>\n",
       "    </tr>\n",
       "    <tr>\n",
       "      <th>3</th>\n",
       "      <td>47</td>\n",
       "      <td>1</td>\n",
       "      <td>1</td>\n",
       "      <td>3</td>\n",
       "      <td>0</td>\n",
       "      <td>1506</td>\n",
       "      <td>1</td>\n",
       "      <td>0</td>\n",
       "      <td>2</td>\n",
       "      <td>5</td>\n",
       "      <td>8</td>\n",
       "      <td>92</td>\n",
       "      <td>1</td>\n",
       "      <td>0</td>\n",
       "    </tr>\n",
       "    <tr>\n",
       "      <th>4</th>\n",
       "      <td>33</td>\n",
       "      <td>11</td>\n",
       "      <td>2</td>\n",
       "      <td>3</td>\n",
       "      <td>0</td>\n",
       "      <td>1</td>\n",
       "      <td>0</td>\n",
       "      <td>0</td>\n",
       "      <td>2</td>\n",
       "      <td>5</td>\n",
       "      <td>8</td>\n",
       "      <td>198</td>\n",
       "      <td>1</td>\n",
       "      <td>0</td>\n",
       "    </tr>\n",
       "  </tbody>\n",
       "</table>\n",
       "</div>"
      ],
      "text/plain": [
       "   age  job  marital  education  default  balance  housing  loan  contact  \\\n",
       "0   58    4        1          2        0     2143        1     0        2   \n",
       "1   44    9        2          1        0       29        1     0        2   \n",
       "2   33    2        1          1        0        2        1     1        2   \n",
       "3   47    1        1          3        0     1506        1     0        2   \n",
       "4   33   11        2          3        0        1        0     0        2   \n",
       "\n",
       "   day  month  duration  campaign  y  \n",
       "0    5      8       261         1  0  \n",
       "1    5      8       151         1  0  \n",
       "2    5      8        76         1  0  \n",
       "3    5      8        92         1  0  \n",
       "4    5      8       198         1  0  "
      ]
     },
     "execution_count": 19,
     "metadata": {},
     "output_type": "execute_result"
    }
   ],
   "source": [
    "df.head()"
   ]
  },
  {
   "cell_type": "markdown",
   "id": "7bee77cf",
   "metadata": {},
   "source": [
    "#### Splitting data using train test split"
   ]
  },
  {
   "cell_type": "code",
   "execution_count": 20,
   "id": "056b202e",
   "metadata": {},
   "outputs": [],
   "source": [
    "y = df[\"y\"]\n",
    "X= df.drop(\"y\", axis=1)"
   ]
  },
  {
   "cell_type": "code",
   "execution_count": 21,
   "id": "2aa92f74",
   "metadata": {},
   "outputs": [],
   "source": [
    "from sklearn.model_selection import train_test_split, cross_val_score"
   ]
  },
  {
   "cell_type": "code",
   "execution_count": 22,
   "id": "073b4e02",
   "metadata": {},
   "outputs": [],
   "source": [
    "X_train, X_test, y_train, y_test=train_test_split(X, y, test_size=0.2)"
   ]
  },
  {
   "cell_type": "code",
   "execution_count": 23,
   "id": "2f588c39",
   "metadata": {},
   "outputs": [
    {
     "name": "stdout",
     "output_type": "stream",
     "text": [
      "X train shape: (32000, 13)\n",
      "Y train shape: (32000,)\n",
      "X test shape: (8000, 13)\n",
      "Y test shape: (8000,)\n"
     ]
    }
   ],
   "source": [
    "print(f'X train shape: {X_train.shape}\\nY train shape: {y_train.shape}\\nX test shape: {X_test.shape}\\nY test shape: {y_test.shape}')"
   ]
  },
  {
   "cell_type": "markdown",
   "id": "be19a42a",
   "metadata": {},
   "source": [
    "### Model Training\n"
   ]
  },
  {
   "cell_type": "code",
   "execution_count": 24,
   "id": "0e52168e",
   "metadata": {},
   "outputs": [],
   "source": [
    "from sklearn.metrics import roc_curve, roc_auc_score, make_scorer\n",
    "def plot_roc_curve(fpr, tpr, label=None):\n",
    "    plt.plot(fpr, tpr, label=None)\n",
    "    plt.plot([0,1],[0,1],\"k--\")\n",
    "    plt.xlabel(\"False Positive Rate\")\n",
    "    plt.ylabel(\"True Positive Rate\")"
   ]
  },
  {
   "cell_type": "code",
   "execution_count": 25,
   "id": "5fcc8b9b",
   "metadata": {},
   "outputs": [],
   "source": [
    "\n",
    "def my_custom_loss_func(y_true, y_pred):\n",
    "    true_positives = ((y_true ==1) &(y_pred==1)).sum()\n",
    "    false_negatives =((y_true ==1) &(y_pred==0)).sum()\n",
    "    recalls =true_positives/(true_positives +false_negatives)\n",
    "    accuracy =(y_true ==y_pred).sum()/len(y_pred)\n",
    "    \n",
    "    result =recalls\n",
    "    return result\n",
    "\n",
    "scorer =make_scorer(my_custom_loss_func, greater_is_better=True)"
   ]
  },
  {
   "cell_type": "markdown",
   "id": "5e81a03c",
   "metadata": {},
   "source": [
    "### 1 .Logistic Regression"
   ]
  },
  {
   "cell_type": "code",
   "execution_count": 26,
   "id": "afbbfbb5",
   "metadata": {},
   "outputs": [
    {
     "name": "stdout",
     "output_type": "stream",
     "text": [
      "Fitting 5 folds for each of 15 candidates, totalling 75 fits\n"
     ]
    },
    {
     "name": "stderr",
     "output_type": "stream",
     "text": [
      "[Parallel(n_jobs=1)]: Using backend SequentialBackend with 1 concurrent workers.\n",
      "[Parallel(n_jobs=1)]: Done   1 out of   1 | elapsed:    1.2s remaining:    0.0s\n",
      "[Parallel(n_jobs=1)]: Done   1 out of   1 | elapsed:    1.2s finished\n"
     ]
    },
    {
     "data": {
      "text/plain": [
       "GridSearchCV(cv=5, estimator=LogisticRegression(verbose=3), n_jobs=3,\n",
       "             param_grid={'C': [5, 10, 20],\n",
       "                         'solver': ['newton-cg', 'lbfgs', 'liblinear', 'sag',\n",
       "                                    'saga']},\n",
       "             scoring='roc_auc', verbose=3)"
      ]
     },
     "execution_count": 26,
     "metadata": {},
     "output_type": "execute_result"
    }
   ],
   "source": [
    "from sklearn.linear_model import LogisticRegression\n",
    "from sklearn.model_selection import RandomizedSearchCV, GridSearchCV\n",
    "from sklearn.metrics import precision_score, recall_score, f1_score, confusion_matrix\n",
    "\n",
    "lr_params ={\n",
    "    \"solver\":[\"newton-cg\", \"lbfgs\", \"liblinear\", \"sag\", \"saga\"],\n",
    "    \"C\":[5,10,20]\n",
    "}\n",
    "\n",
    "lr =LogisticRegression(verbose=3)\n",
    "lr_model = GridSearchCV(lr, lr_params, scoring=\"roc_auc\", cv=5, n_jobs=3, verbose=3)\n",
    "lr_model.fit(X_train, y_train)"
   ]
  },
  {
   "cell_type": "code",
   "execution_count": 27,
   "id": "829c2085",
   "metadata": {},
   "outputs": [
    {
     "name": "stdout",
     "output_type": "stream",
     "text": [
      "Logistic Regression Best Score : 89.49%\n",
      "Logistic Regression Accuracy: 93.22%\n",
      "Logistic Regression Precision Score: 58.77%\n",
      "Logistic Regression Recall Score: 22.62%\n"
     ]
    }
   ],
   "source": [
    "lr_predictions = lr_model.predict(X_train)\n",
    "lr_probas = lr_model.predict_proba(X_train)\n",
    "print(\"Logistic Regression Best Score : \" + \"{:.2f}%\".format(lr_model.best_score_*100))\n",
    "print(\"Logistic Regression Accuracy: \" + \"{:.2f}%\".format(100*np.array(lr_predictions == y_train).sum() / len(X_train)))\n",
    "print(\"Logistic Regression Precision Score: \" + \"{:.2f}%\".format(100*precision_score(y_train, lr_predictions)))\n",
    "print(\"Logistic Regression Recall Score: \" + \"{:.2f}%\".format(100*recall_score(y_train, lr_predictions)))"
   ]
  },
  {
   "cell_type": "markdown",
   "id": "580b5993",
   "metadata": {},
   "source": [
    "### 2. Random Forest"
   ]
  },
  {
   "cell_type": "code",
   "execution_count": 28,
   "id": "696be91b",
   "metadata": {},
   "outputs": [
    {
     "data": {
      "text/plain": [
       "array([0.92670417, 0.94112926, 0.94306456, 0.92967506, 0.92343977])"
      ]
     },
     "execution_count": 28,
     "metadata": {},
     "output_type": "execute_result"
    }
   ],
   "source": [
    "from sklearn.ensemble import RandomForestClassifier\n",
    "from sklearn.model_selection import cross_val_score\n",
    "\n",
    "rf_model = RandomForestClassifier(n_estimators=1000, max_depth=8, verbose = 0)\n",
    "rf_model.fit(X_train, y_train)\n",
    "cross_val_score(rf_model, X=X_train, y=y_train, scoring=\"roc_auc\", cv = 5, n_jobs=-3, verbose=0)"
   ]
  },
  {
   "cell_type": "code",
   "execution_count": 29,
   "id": "cfd6c969",
   "metadata": {},
   "outputs": [
    {
     "name": "stdout",
     "output_type": "stream",
     "text": [
      "Random Forest ROC_AUC : 95.21%\n",
      "Random Forest Accuracy: 94.43%\n",
      "Random Forest Precision Score: 91.82%\n",
      "Random Forest Recall Score: 25.59%\n"
     ]
    }
   ],
   "source": [
    "rf_predictions = rf_model.predict(X_train)\n",
    "rf_probas = rf_model.predict_proba(X_train)\n",
    "print(\"Random Forest ROC_AUC : \" + \"{:.2f}%\".format(roc_auc_score(y_train, rf_probas[:,1])*100))\n",
    "print(\"Random Forest Accuracy: \" + \"{:.2f}%\".format(100*np.array(rf_predictions == y_train).sum() / len(X_train)))\n",
    "print(\"Random Forest Precision Score: \" + \"{:.2f}%\".format(100*precision_score(y_train, rf_predictions)))\n",
    "print(\"Random Forest Recall Score: \" + \"{:.2f}%\".format(100*recall_score(y_train, rf_predictions)))"
   ]
  },
  {
   "cell_type": "markdown",
   "id": "55540093",
   "metadata": {},
   "source": [
    "### 3. XGBoost"
   ]
  },
  {
   "cell_type": "code",
   "execution_count": 30,
   "id": "1eb9bdae",
   "metadata": {},
   "outputs": [
    {
     "name": "stdout",
     "output_type": "stream",
     "text": [
      "[12:46:19] WARNING: C:/Users/Administrator/workspace/xgboost-win64_release_1.6.0/src/learner.cc:627: \n",
      "Parameters: { \"silent\" } might not be used.\n",
      "\n",
      "  This could be a false alarm, with some parameters getting used by language bindings but\n",
      "  then being mistakenly passed down to XGBoost core, or some parameter actually being used\n",
      "  but getting flagged wrongly here. Please open an issue if you find any such cases.\n",
      "\n",
      "\n"
     ]
    },
    {
     "data": {
      "text/plain": [
       "array([0.92627406, 0.93540053, 0.94102925, 0.92627841, 0.92119829])"
      ]
     },
     "execution_count": 30,
     "metadata": {},
     "output_type": "execute_result"
    }
   ],
   "source": [
    "import xgboost\n",
    "\n",
    "xgb_model = xgboost.XGBClassifier(objective='binary:logistic',min_child_weight=10, subsample=0.35, colsample_bytree=0.35, max_depth=3, learning_rate=0.01, n_estimators=1000,silent=True, nthread=-3)\n",
    "xgb_model.fit(X_train, y_train)\n",
    "cross_val_score(xgb_model, X=X_train, y=y_train, scoring=\"roc_auc\", cv = 5, n_jobs=-3, verbose=0)"
   ]
  },
  {
   "cell_type": "code",
   "execution_count": 31,
   "id": "b4ff256c",
   "metadata": {},
   "outputs": [
    {
     "name": "stdout",
     "output_type": "stream",
     "text": [
      "XGBoost ROC_AUC : 93.57%\n",
      "XGBoost Accuracy: 93.62%\n",
      "XGBoost Precision Score: 65.47%\n",
      "XGBoost Forest Recall Score: 25.85%\n"
     ]
    }
   ],
   "source": [
    "xgb_predictions = xgb_model.predict(X_train)\n",
    "xgb_probas = xgb_model.predict_proba(X_train)\n",
    "print(\"XGBoost ROC_AUC : \" + \"{:.2f}%\".format(roc_auc_score(y_train, xgb_probas[:,1])*100))\n",
    "print(\"XGBoost Accuracy: \" + \"{:.2f}%\".format(100*np.array(xgb_predictions == y_train).sum() / len(X_train)))\n",
    "print(\"XGBoost Precision Score: \" + \"{:.2f}%\".format(100*precision_score(y_train, xgb_predictions)))\n",
    "print(\"XGBoost Forest Recall Score: \" + \"{:.2f}%\".format(100*recall_score(y_train, xgb_predictions)))"
   ]
  },
  {
   "cell_type": "code",
   "execution_count": 32,
   "id": "24860f02",
   "metadata": {},
   "outputs": [
    {
     "data": {
      "text/plain": [
       "0.0844889399986471"
      ]
     },
     "execution_count": 32,
     "metadata": {},
     "output_type": "execute_result"
    }
   ],
   "source": [
    "df[(df['age']<=35) & (df['age']>=20)]['y'].mean()"
   ]
  },
  {
   "cell_type": "code",
   "execution_count": 33,
   "id": "cf4dff89",
   "metadata": {},
   "outputs": [
    {
     "data": {
      "text/plain": [
       "0.18019257221458046"
      ]
     },
     "execution_count": 33,
     "metadata": {},
     "output_type": "execute_result"
    }
   ],
   "source": [
    "df[(df['age']>=60)]['y'].mean()"
   ]
  },
  {
   "cell_type": "markdown",
   "id": "1619a7f6",
   "metadata": {},
   "source": [
    "## Using Tensorflow"
   ]
  },
  {
   "cell_type": "code",
   "execution_count": 34,
   "id": "57ce8fc3",
   "metadata": {},
   "outputs": [],
   "source": [
    "from tensorflow.keras.models import Sequential, load_model\n",
    "from tensorflow.keras.layers import Dense\n",
    "from sklearn.metrics import accuracy_score\n",
    "import tensorflow as tf"
   ]
  },
  {
   "cell_type": "code",
   "execution_count": 35,
   "id": "66639ab4",
   "metadata": {},
   "outputs": [],
   "source": [
    "model=Sequential()\n",
    "model.add(Dense(units=32, activation=\"relu\", \n",
    "               input_dim = len(X_train.columns)))\n",
    "model.add(Dense(units=64, activation=\"relu\"))\n",
    "model.add(Dense(units=1, activation=\"sigmoid\"))"
   ]
  },
  {
   "cell_type": "code",
   "execution_count": 36,
   "id": "8ba088ca",
   "metadata": {},
   "outputs": [],
   "source": [
    "model.compile(loss='categorical_crossentropy', optimizer='adam',\n",
    "             metrics=\"accuracy\")"
   ]
  },
  {
   "cell_type": "code",
   "execution_count": 37,
   "id": "7d375f30",
   "metadata": {
    "scrolled": true
   },
   "outputs": [
    {
     "name": "stdout",
     "output_type": "stream",
     "text": [
      "Epoch 1/100\n",
      "1000/1000 [==============================] - 3s 2ms/step - loss: 0.0000e+00 - accuracy: 0.9273\n",
      "Epoch 2/100\n",
      "1000/1000 [==============================] - 2s 2ms/step - loss: 0.0000e+00 - accuracy: 0.9273\n",
      "Epoch 3/100\n",
      "1000/1000 [==============================] - 2s 2ms/step - loss: 0.0000e+00 - accuracy: 0.9273\n",
      "Epoch 4/100\n",
      "1000/1000 [==============================] - 2s 2ms/step - loss: 0.0000e+00 - accuracy: 0.9273\n",
      "Epoch 5/100\n",
      "1000/1000 [==============================] - 3s 3ms/step - loss: 0.0000e+00 - accuracy: 0.9273\n",
      "Epoch 6/100\n",
      "1000/1000 [==============================] - 3s 3ms/step - loss: 0.0000e+00 - accuracy: 0.9273\n",
      "Epoch 7/100\n",
      "1000/1000 [==============================] - 3s 3ms/step - loss: 0.0000e+00 - accuracy: 0.9273\n",
      "Epoch 8/100\n",
      "1000/1000 [==============================] - 3s 3ms/step - loss: 0.0000e+00 - accuracy: 0.9273\n",
      "Epoch 9/100\n",
      "1000/1000 [==============================] - 3s 3ms/step - loss: 0.0000e+00 - accuracy: 0.9273\n",
      "Epoch 10/100\n",
      "1000/1000 [==============================] - 3s 3ms/step - loss: 0.0000e+00 - accuracy: 0.9273\n",
      "Epoch 11/100\n",
      "1000/1000 [==============================] - 3s 3ms/step - loss: 0.0000e+00 - accuracy: 0.9273\n",
      "Epoch 12/100\n",
      "1000/1000 [==============================] - 2s 2ms/step - loss: 0.0000e+00 - accuracy: 0.9273\n",
      "Epoch 13/100\n",
      "1000/1000 [==============================] - 3s 3ms/step - loss: 0.0000e+00 - accuracy: 0.9273\n",
      "Epoch 14/100\n",
      "1000/1000 [==============================] - 3s 3ms/step - loss: 0.0000e+00 - accuracy: 0.9273\n",
      "Epoch 15/100\n",
      "1000/1000 [==============================] - 3s 3ms/step - loss: 0.0000e+00 - accuracy: 0.9273\n",
      "Epoch 16/100\n",
      "1000/1000 [==============================] - 3s 3ms/step - loss: 0.0000e+00 - accuracy: 0.9273\n",
      "Epoch 17/100\n",
      "1000/1000 [==============================] - 3s 3ms/step - loss: 0.0000e+00 - accuracy: 0.9273\n",
      "Epoch 18/100\n",
      "1000/1000 [==============================] - 3s 3ms/step - loss: 0.0000e+00 - accuracy: 0.9273\n",
      "Epoch 19/100\n",
      "1000/1000 [==============================] - 3s 3ms/step - loss: 0.0000e+00 - accuracy: 0.9273\n",
      "Epoch 20/100\n",
      "1000/1000 [==============================] - 3s 3ms/step - loss: 0.0000e+00 - accuracy: 0.9273\n",
      "Epoch 21/100\n",
      "1000/1000 [==============================] - 3s 3ms/step - loss: 0.0000e+00 - accuracy: 0.9273\n",
      "Epoch 22/100\n",
      "1000/1000 [==============================] - 3s 3ms/step - loss: 0.0000e+00 - accuracy: 0.9273\n",
      "Epoch 23/100\n",
      "1000/1000 [==============================] - 3s 3ms/step - loss: 0.0000e+00 - accuracy: 0.9273\n",
      "Epoch 24/100\n",
      "1000/1000 [==============================] - 3s 3ms/step - loss: 0.0000e+00 - accuracy: 0.9273\n",
      "Epoch 25/100\n",
      "1000/1000 [==============================] - 3s 3ms/step - loss: 0.0000e+00 - accuracy: 0.9273\n",
      "Epoch 26/100\n",
      "1000/1000 [==============================] - 3s 3ms/step - loss: 0.0000e+00 - accuracy: 0.9273\n",
      "Epoch 27/100\n",
      "1000/1000 [==============================] - 3s 3ms/step - loss: 0.0000e+00 - accuracy: 0.9273\n",
      "Epoch 28/100\n",
      "1000/1000 [==============================] - 3s 3ms/step - loss: 0.0000e+00 - accuracy: 0.9273\n",
      "Epoch 29/100\n",
      "1000/1000 [==============================] - 3s 3ms/step - loss: 0.0000e+00 - accuracy: 0.9273\n",
      "Epoch 30/100\n",
      "1000/1000 [==============================] - 3s 3ms/step - loss: 0.0000e+00 - accuracy: 0.9273\n",
      "Epoch 31/100\n",
      "1000/1000 [==============================] - 3s 3ms/step - loss: 0.0000e+00 - accuracy: 0.9273\n",
      "Epoch 32/100\n",
      "1000/1000 [==============================] - 3s 3ms/step - loss: 0.0000e+00 - accuracy: 0.9273\n",
      "Epoch 33/100\n",
      "1000/1000 [==============================] - 3s 3ms/step - loss: 0.0000e+00 - accuracy: 0.9273\n",
      "Epoch 34/100\n",
      "1000/1000 [==============================] - 3s 3ms/step - loss: 0.0000e+00 - accuracy: 0.9273\n",
      "Epoch 35/100\n",
      "1000/1000 [==============================] - 3s 3ms/step - loss: 0.0000e+00 - accuracy: 0.9273\n",
      "Epoch 36/100\n",
      "1000/1000 [==============================] - 3s 3ms/step - loss: 0.0000e+00 - accuracy: 0.9273\n",
      "Epoch 37/100\n",
      "1000/1000 [==============================] - 3s 3ms/step - loss: 0.0000e+00 - accuracy: 0.9273\n",
      "Epoch 38/100\n",
      "1000/1000 [==============================] - 3s 3ms/step - loss: 0.0000e+00 - accuracy: 0.9273\n",
      "Epoch 39/100\n",
      "1000/1000 [==============================] - 2s 2ms/step - loss: 0.0000e+00 - accuracy: 0.9273\n",
      "Epoch 40/100\n",
      "1000/1000 [==============================] - 2s 2ms/step - loss: 0.0000e+00 - accuracy: 0.9273\n",
      "Epoch 41/100\n",
      "1000/1000 [==============================] - 3s 3ms/step - loss: 0.0000e+00 - accuracy: 0.9273\n",
      "Epoch 42/100\n",
      "1000/1000 [==============================] - 2s 2ms/step - loss: 0.0000e+00 - accuracy: 0.9273\n",
      "Epoch 43/100\n",
      "1000/1000 [==============================] - 2s 2ms/step - loss: 0.0000e+00 - accuracy: 0.9273\n",
      "Epoch 44/100\n",
      "1000/1000 [==============================] - 2s 2ms/step - loss: 0.0000e+00 - accuracy: 0.9273\n",
      "Epoch 45/100\n",
      "1000/1000 [==============================] - 3s 3ms/step - loss: 0.0000e+00 - accuracy: 0.9273\n",
      "Epoch 46/100\n",
      "1000/1000 [==============================] - 2s 2ms/step - loss: 0.0000e+00 - accuracy: 0.9273\n",
      "Epoch 47/100\n",
      "1000/1000 [==============================] - 3s 3ms/step - loss: 0.0000e+00 - accuracy: 0.9273\n",
      "Epoch 48/100\n",
      "1000/1000 [==============================] - 2s 2ms/step - loss: 0.0000e+00 - accuracy: 0.9273\n",
      "Epoch 49/100\n",
      "1000/1000 [==============================] - 2s 2ms/step - loss: 0.0000e+00 - accuracy: 0.9273\n",
      "Epoch 50/100\n",
      "1000/1000 [==============================] - 3s 3ms/step - loss: 0.0000e+00 - accuracy: 0.9273\n",
      "Epoch 51/100\n",
      "1000/1000 [==============================] - 3s 3ms/step - loss: 0.0000e+00 - accuracy: 0.9273\n",
      "Epoch 52/100\n",
      "1000/1000 [==============================] - 2s 2ms/step - loss: 0.0000e+00 - accuracy: 0.9273\n",
      "Epoch 53/100\n",
      "1000/1000 [==============================] - 3s 3ms/step - loss: 0.0000e+00 - accuracy: 0.9273\n",
      "Epoch 54/100\n",
      "1000/1000 [==============================] - 3s 3ms/step - loss: 0.0000e+00 - accuracy: 0.9273\n",
      "Epoch 55/100\n",
      "1000/1000 [==============================] - 3s 3ms/step - loss: 0.0000e+00 - accuracy: 0.9273\n",
      "Epoch 56/100\n",
      "1000/1000 [==============================] - 3s 3ms/step - loss: 0.0000e+00 - accuracy: 0.9273\n",
      "Epoch 57/100\n",
      "1000/1000 [==============================] - 2s 2ms/step - loss: 0.0000e+00 - accuracy: 0.9273\n",
      "Epoch 58/100\n",
      "1000/1000 [==============================] - 3s 3ms/step - loss: 0.0000e+00 - accuracy: 0.9273\n",
      "Epoch 59/100\n",
      "1000/1000 [==============================] - 3s 3ms/step - loss: 0.0000e+00 - accuracy: 0.9273\n",
      "Epoch 60/100\n",
      "1000/1000 [==============================] - 3s 3ms/step - loss: 0.0000e+00 - accuracy: 0.9273\n",
      "Epoch 61/100\n",
      "1000/1000 [==============================] - 2s 2ms/step - loss: 0.0000e+00 - accuracy: 0.9273\n",
      "Epoch 62/100\n",
      "1000/1000 [==============================] - 3s 3ms/step - loss: 0.0000e+00 - accuracy: 0.9273\n",
      "Epoch 63/100\n",
      "1000/1000 [==============================] - 3s 3ms/step - loss: 0.0000e+00 - accuracy: 0.9273\n",
      "Epoch 64/100\n",
      "1000/1000 [==============================] - 3s 3ms/step - loss: 0.0000e+00 - accuracy: 0.9273\n",
      "Epoch 65/100\n",
      "1000/1000 [==============================] - 2s 2ms/step - loss: 0.0000e+00 - accuracy: 0.9273\n",
      "Epoch 66/100\n",
      "1000/1000 [==============================] - 3s 3ms/step - loss: 0.0000e+00 - accuracy: 0.9273\n",
      "Epoch 67/100\n",
      "1000/1000 [==============================] - 2s 2ms/step - loss: 0.0000e+00 - accuracy: 0.9273\n",
      "Epoch 68/100\n",
      "1000/1000 [==============================] - 3s 3ms/step - loss: 0.0000e+00 - accuracy: 0.9273\n",
      "Epoch 69/100\n",
      "1000/1000 [==============================] - 3s 3ms/step - loss: 0.0000e+00 - accuracy: 0.9273\n",
      "Epoch 70/100\n",
      "1000/1000 [==============================] - 3s 3ms/step - loss: 0.0000e+00 - accuracy: 0.9273\n",
      "Epoch 71/100\n",
      "1000/1000 [==============================] - 3s 3ms/step - loss: 0.0000e+00 - accuracy: 0.9273\n",
      "Epoch 72/100\n",
      "1000/1000 [==============================] - 3s 3ms/step - loss: 0.0000e+00 - accuracy: 0.9273\n",
      "Epoch 73/100\n",
      "1000/1000 [==============================] - 3s 3ms/step - loss: 0.0000e+00 - accuracy: 0.9273\n",
      "Epoch 74/100\n",
      "1000/1000 [==============================] - 3s 3ms/step - loss: 0.0000e+00 - accuracy: 0.9273\n",
      "Epoch 75/100\n",
      "1000/1000 [==============================] - 2s 2ms/step - loss: 0.0000e+00 - accuracy: 0.9273\n",
      "Epoch 76/100\n"
     ]
    },
    {
     "name": "stdout",
     "output_type": "stream",
     "text": [
      "1000/1000 [==============================] - 3s 3ms/step - loss: 0.0000e+00 - accuracy: 0.9273\n",
      "Epoch 77/100\n",
      "1000/1000 [==============================] - 3s 3ms/step - loss: 0.0000e+00 - accuracy: 0.9273\n",
      "Epoch 78/100\n",
      "1000/1000 [==============================] - 3s 3ms/step - loss: 0.0000e+00 - accuracy: 0.9273\n",
      "Epoch 79/100\n",
      "1000/1000 [==============================] - 3s 3ms/step - loss: 0.0000e+00 - accuracy: 0.9273\n",
      "Epoch 80/100\n",
      "1000/1000 [==============================] - 2s 2ms/step - loss: 0.0000e+00 - accuracy: 0.9273\n",
      "Epoch 81/100\n",
      "1000/1000 [==============================] - 3s 3ms/step - loss: 0.0000e+00 - accuracy: 0.9273\n",
      "Epoch 82/100\n",
      "1000/1000 [==============================] - 2s 2ms/step - loss: 0.0000e+00 - accuracy: 0.9273\n",
      "Epoch 83/100\n",
      "1000/1000 [==============================] - 3s 3ms/step - loss: 0.0000e+00 - accuracy: 0.9273\n",
      "Epoch 84/100\n",
      "1000/1000 [==============================] - 2s 2ms/step - loss: 0.0000e+00 - accuracy: 0.9273\n",
      "Epoch 85/100\n",
      "1000/1000 [==============================] - 3s 3ms/step - loss: 0.0000e+00 - accuracy: 0.9273\n",
      "Epoch 86/100\n",
      "1000/1000 [==============================] - 3s 3ms/step - loss: 0.0000e+00 - accuracy: 0.9273\n",
      "Epoch 87/100\n",
      "1000/1000 [==============================] - 2s 2ms/step - loss: 0.0000e+00 - accuracy: 0.9273\n",
      "Epoch 88/100\n",
      "1000/1000 [==============================] - 2s 2ms/step - loss: 0.0000e+00 - accuracy: 0.9273\n",
      "Epoch 89/100\n",
      "1000/1000 [==============================] - 3s 3ms/step - loss: 0.0000e+00 - accuracy: 0.9273\n",
      "Epoch 90/100\n",
      "1000/1000 [==============================] - 3s 3ms/step - loss: 0.0000e+00 - accuracy: 0.9273\n",
      "Epoch 91/100\n",
      "1000/1000 [==============================] - 3s 3ms/step - loss: 0.0000e+00 - accuracy: 0.9273\n",
      "Epoch 92/100\n",
      "1000/1000 [==============================] - 3s 3ms/step - loss: 0.0000e+00 - accuracy: 0.9273\n",
      "Epoch 93/100\n",
      "1000/1000 [==============================] - 3s 3ms/step - loss: 0.0000e+00 - accuracy: 0.9273\n",
      "Epoch 94/100\n",
      "1000/1000 [==============================] - 3s 3ms/step - loss: 0.0000e+00 - accuracy: 0.9273\n",
      "Epoch 95/100\n",
      "1000/1000 [==============================] - 3s 3ms/step - loss: 0.0000e+00 - accuracy: 0.9273\n",
      "Epoch 96/100\n",
      "1000/1000 [==============================] - 3s 3ms/step - loss: 0.0000e+00 - accuracy: 0.9273\n",
      "Epoch 97/100\n",
      "1000/1000 [==============================] - 3s 3ms/step - loss: 0.0000e+00 - accuracy: 0.9273\n",
      "Epoch 98/100\n",
      "1000/1000 [==============================] - 3s 3ms/step - loss: 0.0000e+00 - accuracy: 0.9273\n",
      "Epoch 99/100\n",
      "1000/1000 [==============================] - 3s 3ms/step - loss: 0.0000e+00 - accuracy: 0.9273\n",
      "Epoch 100/100\n",
      "1000/1000 [==============================] - 3s 3ms/step - loss: 0.0000e+00 - accuracy: 0.9273\n"
     ]
    },
    {
     "data": {
      "text/plain": [
       "<keras.callbacks.History at 0x1fa03637dc0>"
      ]
     },
     "execution_count": 37,
     "metadata": {},
     "output_type": "execute_result"
    }
   ],
   "source": [
    "model.fit(X_train, y_train, epochs=100,batch_size=32 )"
   ]
  },
  {
   "cell_type": "code",
   "execution_count": 38,
   "id": "0a4e3984",
   "metadata": {},
   "outputs": [
    {
     "data": {
      "text/plain": [
       "0.928625"
      ]
     },
     "execution_count": 38,
     "metadata": {},
     "output_type": "execute_result"
    }
   ],
   "source": [
    "y_hat =model.predict(X_test)\n",
    "accuracy_score(y_test, y_hat)"
   ]
  },
  {
   "cell_type": "markdown",
   "id": "0eb1e41c",
   "metadata": {},
   "source": [
    "**Which Customers are more likely to buy? (Customer Segmentation)**\n",
    "\n",
    "Age: People are significantly more likely to subscribe at their later ages(60+) and they are more likely to subsribe at early(20-35) ages. The ages in between, they are less likely to subscribe.\n",
    "\n",
    "Default: Default information is not a very good predictor\n",
    "\n",
    "Balance: People with higher balance has more chances of subscribing. In dataset, there are lots of people with zero balance(probably does not have account on bank), the people with zero balance are less likely to subscribe. (It can be people with no account as well because they will probably depositing on a bank in which they allready have an account.)\n",
    "\n",
    "Housing: The people without a housing loan are more likely to subscribe\n",
    "\n",
    "Loan: Loan information is not a very good predictor.\n",
    "\n",
    "Job: Management levels are more likely and Blue Collars are less likely to subscribe.\n",
    "\n",
    "Marital: Single people are more likely and Married people are less likely to subscribe.\n",
    "\n",
    "Education: People with tertiary education are more likely to subscribe, other education types does are not very significant predictors."
   ]
  },
  {
   "cell_type": "code",
   "execution_count": 39,
   "id": "88e1efd8",
   "metadata": {},
   "outputs": [
    {
     "data": {
      "image/png": "[encoded data removed]",
      "text/plain": [
       "<Figure size 432x288 with 1 Axes>"
      ]
     },
     "metadata": {},
     "output_type": "display_data"
    }
   ],
   "source": [
    "age_data = df[['age','y']]\n",
    "buyers = age_data[age_data['y']==1]\n",
    "no_buyers = age_data[age_data['y']==0]\n",
    "plt.hist(buyers['age'], bins=40, alpha=0.5, density=True, label='Buyers')\n",
    "plt.hist(no_buyers['age'], bins=40, alpha=0.5, density=True, label = 'No-Buyers')\n",
    "plt.legend(loc=\"upper right\")\n",
    "plt.xlabel(\"Age\")\n",
    "plt.show()"
   ]
  },
  {
   "cell_type": "markdown",
   "id": "c5f9aed2",
   "metadata": {},
   "source": [
    "**What makes customers buy?**\n",
    "\n",
    "The most significant features that makes customers buy are:\n",
    "\n",
    "In the exploratory data analysis section, we have observed some features that has higher sale rates than others.\n",
    "\n",
    "I am now going to combine EDA with feature importance values that is given by the model to answer What makes customer buy?\n",
    "\n",
    "1. Duration: Longer calls more likely ending up in sales. You can find the visual evidence for this suggestion below.\n",
    "\n",
    "2. Contact Type: Cellular contacts more likely ending up in sales. Model suggests this feature is important and you can find the analysis for this on EDA section.\n",
    "\n",
    "3. Month: The contact month also affecting the sales. October and March has higher sale rates than other months followed by april and february. But notice that March has fewer observation than others and October has very few observations. Therefore model thinks month's beign october does not have any significant effect on sales. Need to observe more values to be able to say something about October."
   ]
  },
  {
   "cell_type": "markdown",
   "id": "77238180",
   "metadata": {},
   "source": [
    "### Duration"
   ]
  },
  {
   "cell_type": "code",
   "execution_count": 40,
   "id": "ae3af48b",
   "metadata": {},
   "outputs": [],
   "source": [
    "duration_data = df[['duration','y']]\n",
    "buyers = duration_data[duration_data['y']==1]\n",
    "no_buyers = duration_data[duration_data['y']==0]"
   ]
  },
  {
   "cell_type": "code",
   "execution_count": 41,
   "id": "5ee75a5d",
   "metadata": {},
   "outputs": [
    {
     "data": {
      "image/png": "[encoded data removed]",
      "text/plain": [
       "<Figure size 432x288 with 1 Axes>"
      ]
     },
     "metadata": {},
     "output_type": "display_data"
    }
   ],
   "source": [
    "bins = np.linspace(0,3000,100)\n",
    "plt.hist(buyers['duration'], bins=bins, alpha=0.5, density=True, label='Buyers')\n",
    "plt.hist(no_buyers['duration'], bins=bins, alpha=0.5, density=True, label = 'No-Buyers')\n",
    "plt.legend(loc=\"upper right\")\n",
    "plt.xlabel(\"Call Duration\")\n",
    "plt.show()"
   ]
  },
  {
   "cell_type": "markdown",
   "id": "3f115f53",
   "metadata": {},
   "source": [
    "The call durations of No-buyers are left-skewed and most observations are at lower durations.\n",
    "\n",
    "There are not many observations of long call durations for no-buyers.\n",
    "\n",
    "On the other hand, the call durations of Buyers are more spread-out to higher calls.\n",
    "\n",
    "This means that there is a correlation between Call duration and Subscribing.\n",
    "\n",
    "It can be either longer duration calls more likely to end up with sale or(/and) the if the sale is made on phone and after the sale more talking is required then the calls that ended up in sales might cause the duration to be longer. But this information is not given in the problem."
   ]
  },
  {
   "cell_type": "markdown",
   "id": "0bd9fd6b",
   "metadata": {},
   "source": [
    "### Balance"
   ]
  },
  {
   "cell_type": "code",
   "execution_count": 42,
   "id": "b2936b3c",
   "metadata": {},
   "outputs": [],
   "source": [
    "balance_data = df[['balance','y']]\n",
    "buyers = balance_data[balance_data['y']==1]\n",
    "no_buyers = balance_data[balance_data['y']==0]"
   ]
  },
  {
   "cell_type": "code",
   "execution_count": 43,
   "id": "8292cd78",
   "metadata": {},
   "outputs": [
    {
     "data": {
      "image/png": "[encoded data removed]",
      "text/plain": [
       "<Figure size 432x288 with 1 Axes>"
      ]
     },
     "metadata": {},
     "output_type": "display_data"
    }
   ],
   "source": [
    "bins = np.linspace(0,15,100)\n",
    "plt.hist(np.log(buyers['balance']+1), bins=bins, alpha=0.5, density=True, label='Buyers')\n",
    "plt.hist(np.log(no_buyers['balance']+1), bins=bins, alpha=0.5, density=True, label = 'No-Buyers')\n",
    "plt.legend(loc=\"upper right\")\n",
    "plt.xlabel(\"Log Balance\")\n",
    "plt.show()"
   ]
  },
  {
   "cell_type": "markdown",
   "id": "1fb61b1b",
   "metadata": {},
   "source": [
    "The distribution of buyer balances are a shifted to right than the distribution of no-buyer balances\n",
    "\n",
    "This means the higher balance means higher chances of subscribing but not quite significant."
   ]
  },
  {
   "cell_type": "code",
   "execution_count": 44,
   "id": "cc01fa85",
   "metadata": {},
   "outputs": [
    {
     "name": "stdout",
     "output_type": "stream",
     "text": [
      "No-Buyers balance mean: 1249.7525334195775\n",
      "Buyers balance mean: 1588.495856353591\n"
     ]
    }
   ],
   "source": [
    "print(\"No-Buyers balance mean:\", no_buyers.balance.mean())\n",
    "print(\"Buyers balance mean:\", buyers.balance.mean())"
   ]
  },
  {
   "cell_type": "code",
   "execution_count": null,
   "id": "43be3845",
   "metadata": {},
   "outputs": [],
   "source": []
  }
 ],
 "metadata": {
  "kernelspec": {
   "display_name": "Python 3 (ipykernel)",
   "language": "python",
   "name": "python3"
  },
  "language_info": {
   "codemirror_mode": {
    "name": "ipython",
    "version": 3
   },
   "file_extension": ".py",
   "mimetype": "text/x-python",
   "name": "python",
   "nbconvert_exporter": "python",
   "pygments_lexer": "ipython3",
   "version": "3.9.7"
  }
 },
 "nbformat": 4,
 "nbformat_minor": 5
}
