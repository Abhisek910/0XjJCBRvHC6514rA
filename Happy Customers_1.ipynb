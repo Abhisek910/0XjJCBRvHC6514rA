{
 "cells": [
  {
   "cell_type": "markdown",
   "id": "633c06e0",
   "metadata": {},
   "source": [
    "Background:\n",
    "\n",
    "We are one of the fastest growing startups in the logistics and delivery domain. We work with several partners and make on-demand delivery to our customers. During the COVID-19 pandemic, we are facing several different challenges and everyday we are trying to address these challenges.\n",
    "\n",
    "We thrive on making our customers happy. As a growing startup, with a global expansion strategy we know that we need to make our customers happy and the only way to do that is to measure how happy each customer is. If we can predict what makes our customers happy or unhappy, we can then take necessary actions.\n",
    "\n",
    "Getting feedback from customers is not easy either, but we do our best to get constant feedback from our customers. This is a crucial function to improve our operations across all levels.\n",
    "\n",
    "We recently did a survey to a select customer cohort. You are presented with a subset of this data. We will be using the remaining data as a private test set.\n",
    "\n",
    "**Data Description**:\n",
    "\n",
    "   * Y = target attribute (Y) with values indicating 0 (unhappy) and 1 (happy) customers\n",
    "   * X1 = my order was delivered on time\n",
    "   * X2 = contents of my order was as I expected\n",
    "   * X3 = I ordered everything I wanted to order\n",
    "   * X4 = I paid a good price for my order\n",
    "   * X5 = I am satisfied with my courier\n",
    "   * X6 = the app makes ordering easy for me\n",
    "\n",
    "Attributes X1 to X6 indicate the responses for each question and have values from 1 to 5 where the smaller number indicates less and the higher number indicates more towards the answer."
   ]
  },
  {
   "cell_type": "code",
   "execution_count": 1,
   "id": "b78029c7",
   "metadata": {},
   "outputs": [],
   "source": [
    "import numpy as np\n",
    "import pandas as pd\n",
    "import sklearn \n",
    "import matplotlib.pyplot as plt\n",
    "import random\n",
    "import seaborn as sn\n",
    "from sklearn.model_selection import train_test_split\n",
    "from sklearn.metrics import confusion_matrix, classification_report, f1_score, accuracy_score\n"
   ]
  },
  {
   "cell_type": "code",
   "execution_count": 2,
   "id": "db4ebecc",
   "metadata": {},
   "outputs": [
    {
     "data": {
      "text/html": [
       "<div>\n",
       "<style scoped>\n",
       "    .dataframe tbody tr th:only-of-type {\n",
       "        vertical-align: middle;\n",
       "    }\n",
       "\n",
       "    .dataframe tbody tr th {\n",
       "        vertical-align: top;\n",
       "    }\n",
       "\n",
       "    .dataframe thead th {\n",
       "        text-align: right;\n",
       "    }\n",
       "</style>\n",
       "<table border=\"1\" class=\"dataframe\">\n",
       "  <thead>\n",
       "    <tr style=\"text-align: right;\">\n",
       "      <th></th>\n",
       "      <th>Y</th>\n",
       "      <th>X1</th>\n",
       "      <th>X2</th>\n",
       "      <th>X3</th>\n",
       "      <th>X4</th>\n",
       "      <th>X5</th>\n",
       "      <th>X6</th>\n",
       "    </tr>\n",
       "  </thead>\n",
       "  <tbody>\n",
       "    <tr>\n",
       "      <th>0</th>\n",
       "      <td>0</td>\n",
       "      <td>3</td>\n",
       "      <td>3</td>\n",
       "      <td>3</td>\n",
       "      <td>4</td>\n",
       "      <td>2</td>\n",
       "      <td>4</td>\n",
       "    </tr>\n",
       "    <tr>\n",
       "      <th>1</th>\n",
       "      <td>0</td>\n",
       "      <td>3</td>\n",
       "      <td>2</td>\n",
       "      <td>3</td>\n",
       "      <td>5</td>\n",
       "      <td>4</td>\n",
       "      <td>3</td>\n",
       "    </tr>\n",
       "    <tr>\n",
       "      <th>2</th>\n",
       "      <td>1</td>\n",
       "      <td>5</td>\n",
       "      <td>3</td>\n",
       "      <td>3</td>\n",
       "      <td>3</td>\n",
       "      <td>3</td>\n",
       "      <td>5</td>\n",
       "    </tr>\n",
       "    <tr>\n",
       "      <th>3</th>\n",
       "      <td>0</td>\n",
       "      <td>5</td>\n",
       "      <td>4</td>\n",
       "      <td>3</td>\n",
       "      <td>3</td>\n",
       "      <td>3</td>\n",
       "      <td>5</td>\n",
       "    </tr>\n",
       "    <tr>\n",
       "      <th>4</th>\n",
       "      <td>0</td>\n",
       "      <td>5</td>\n",
       "      <td>4</td>\n",
       "      <td>3</td>\n",
       "      <td>3</td>\n",
       "      <td>3</td>\n",
       "      <td>5</td>\n",
       "    </tr>\n",
       "  </tbody>\n",
       "</table>\n",
       "</div>"
      ],
      "text/plain": [
       "   Y  X1  X2  X3  X4  X5  X6\n",
       "0  0   3   3   3   4   2   4\n",
       "1  0   3   2   3   5   4   3\n",
       "2  1   5   3   3   3   3   5\n",
       "3  0   5   4   3   3   3   5\n",
       "4  0   5   4   3   3   3   5"
      ]
     },
     "execution_count": 2,
     "metadata": {},
     "output_type": "execute_result"
    }
   ],
   "source": [
    "data = pd.read_csv(\"ACME-HappinessSurvey2020.csv\")\n",
    "data.head()"
   ]
  },
  {
   "cell_type": "code",
   "execution_count": 3,
   "id": "455791bb",
   "metadata": {},
   "outputs": [
    {
     "data": {
      "text/html": [
       "<div>\n",
       "<style scoped>\n",
       "    .dataframe tbody tr th:only-of-type {\n",
       "        vertical-align: middle;\n",
       "    }\n",
       "\n",
       "    .dataframe tbody tr th {\n",
       "        vertical-align: top;\n",
       "    }\n",
       "\n",
       "    .dataframe thead th {\n",
       "        text-align: right;\n",
       "    }\n",
       "</style>\n",
       "<table border=\"1\" class=\"dataframe\">\n",
       "  <thead>\n",
       "    <tr style=\"text-align: right;\">\n",
       "      <th></th>\n",
       "      <th>happinessStatus</th>\n",
       "      <th>onTime</th>\n",
       "      <th>expectedContents</th>\n",
       "      <th>allOrdered</th>\n",
       "      <th>goodPrice</th>\n",
       "      <th>orderSatisfication</th>\n",
       "      <th>easyOrdering</th>\n",
       "    </tr>\n",
       "  </thead>\n",
       "  <tbody>\n",
       "    <tr>\n",
       "      <th>0</th>\n",
       "      <td>0</td>\n",
       "      <td>3</td>\n",
       "      <td>3</td>\n",
       "      <td>3</td>\n",
       "      <td>4</td>\n",
       "      <td>2</td>\n",
       "      <td>4</td>\n",
       "    </tr>\n",
       "    <tr>\n",
       "      <th>1</th>\n",
       "      <td>0</td>\n",
       "      <td>3</td>\n",
       "      <td>2</td>\n",
       "      <td>3</td>\n",
       "      <td>5</td>\n",
       "      <td>4</td>\n",
       "      <td>3</td>\n",
       "    </tr>\n",
       "    <tr>\n",
       "      <th>2</th>\n",
       "      <td>1</td>\n",
       "      <td>5</td>\n",
       "      <td>3</td>\n",
       "      <td>3</td>\n",
       "      <td>3</td>\n",
       "      <td>3</td>\n",
       "      <td>5</td>\n",
       "    </tr>\n",
       "    <tr>\n",
       "      <th>3</th>\n",
       "      <td>0</td>\n",
       "      <td>5</td>\n",
       "      <td>4</td>\n",
       "      <td>3</td>\n",
       "      <td>3</td>\n",
       "      <td>3</td>\n",
       "      <td>5</td>\n",
       "    </tr>\n",
       "    <tr>\n",
       "      <th>4</th>\n",
       "      <td>0</td>\n",
       "      <td>5</td>\n",
       "      <td>4</td>\n",
       "      <td>3</td>\n",
       "      <td>3</td>\n",
       "      <td>3</td>\n",
       "      <td>5</td>\n",
       "    </tr>\n",
       "  </tbody>\n",
       "</table>\n",
       "</div>"
      ],
      "text/plain": [
       "   happinessStatus  onTime  expectedContents  allOrdered  goodPrice  \\\n",
       "0                0       3                 3           3          4   \n",
       "1                0       3                 2           3          5   \n",
       "2                1       5                 3           3          3   \n",
       "3                0       5                 4           3          3   \n",
       "4                0       5                 4           3          3   \n",
       "\n",
       "   orderSatisfication  easyOrdering  \n",
       "0                   2             4  \n",
       "1                   4             3  \n",
       "2                   3             5  \n",
       "3                   3             5  \n",
       "4                   3             5  "
      ]
     },
     "execution_count": 3,
     "metadata": {},
     "output_type": "execute_result"
    }
   ],
   "source": [
    "data.columns = ['happinessStatus', 'onTime', 'expectedContents', \n",
    "                'allOrdered', 'goodPrice', 'orderSatisfication', 'easyOrdering']\n",
    "data.head()"
   ]
  },
  {
   "cell_type": "markdown",
   "id": "e59c1ff0",
   "metadata": {},
   "source": [
    "### Visualize the data"
   ]
  },
  {
   "cell_type": "code",
   "execution_count": 4,
   "id": "f462d737",
   "metadata": {},
   "outputs": [
    {
     "data": {
      "text/html": [
       "<div>\n",
       "<style scoped>\n",
       "    .dataframe tbody tr th:only-of-type {\n",
       "        vertical-align: middle;\n",
       "    }\n",
       "\n",
       "    .dataframe tbody tr th {\n",
       "        vertical-align: top;\n",
       "    }\n",
       "\n",
       "    .dataframe thead th {\n",
       "        text-align: right;\n",
       "    }\n",
       "</style>\n",
       "<table border=\"1\" class=\"dataframe\">\n",
       "  <thead>\n",
       "    <tr style=\"text-align: right;\">\n",
       "      <th></th>\n",
       "      <th>happinessStatus</th>\n",
       "      <th>onTime</th>\n",
       "      <th>expectedContents</th>\n",
       "      <th>allOrdered</th>\n",
       "      <th>goodPrice</th>\n",
       "      <th>orderSatisfication</th>\n",
       "      <th>easyOrdering</th>\n",
       "    </tr>\n",
       "  </thead>\n",
       "  <tbody>\n",
       "    <tr>\n",
       "      <th>count</th>\n",
       "      <td>126.000000</td>\n",
       "      <td>126.000000</td>\n",
       "      <td>126.000000</td>\n",
       "      <td>126.000000</td>\n",
       "      <td>126.000000</td>\n",
       "      <td>126.000000</td>\n",
       "      <td>126.000000</td>\n",
       "    </tr>\n",
       "    <tr>\n",
       "      <th>mean</th>\n",
       "      <td>0.547619</td>\n",
       "      <td>4.333333</td>\n",
       "      <td>2.531746</td>\n",
       "      <td>3.309524</td>\n",
       "      <td>3.746032</td>\n",
       "      <td>3.650794</td>\n",
       "      <td>4.253968</td>\n",
       "    </tr>\n",
       "    <tr>\n",
       "      <th>std</th>\n",
       "      <td>0.499714</td>\n",
       "      <td>0.800000</td>\n",
       "      <td>1.114892</td>\n",
       "      <td>1.023440</td>\n",
       "      <td>0.875776</td>\n",
       "      <td>1.147641</td>\n",
       "      <td>0.809311</td>\n",
       "    </tr>\n",
       "    <tr>\n",
       "      <th>min</th>\n",
       "      <td>0.000000</td>\n",
       "      <td>1.000000</td>\n",
       "      <td>1.000000</td>\n",
       "      <td>1.000000</td>\n",
       "      <td>1.000000</td>\n",
       "      <td>1.000000</td>\n",
       "      <td>1.000000</td>\n",
       "    </tr>\n",
       "    <tr>\n",
       "      <th>25%</th>\n",
       "      <td>0.000000</td>\n",
       "      <td>4.000000</td>\n",
       "      <td>2.000000</td>\n",
       "      <td>3.000000</td>\n",
       "      <td>3.000000</td>\n",
       "      <td>3.000000</td>\n",
       "      <td>4.000000</td>\n",
       "    </tr>\n",
       "    <tr>\n",
       "      <th>50%</th>\n",
       "      <td>1.000000</td>\n",
       "      <td>5.000000</td>\n",
       "      <td>3.000000</td>\n",
       "      <td>3.000000</td>\n",
       "      <td>4.000000</td>\n",
       "      <td>4.000000</td>\n",
       "      <td>4.000000</td>\n",
       "    </tr>\n",
       "    <tr>\n",
       "      <th>75%</th>\n",
       "      <td>1.000000</td>\n",
       "      <td>5.000000</td>\n",
       "      <td>3.000000</td>\n",
       "      <td>4.000000</td>\n",
       "      <td>4.000000</td>\n",
       "      <td>4.000000</td>\n",
       "      <td>5.000000</td>\n",
       "    </tr>\n",
       "    <tr>\n",
       "      <th>max</th>\n",
       "      <td>1.000000</td>\n",
       "      <td>5.000000</td>\n",
       "      <td>5.000000</td>\n",
       "      <td>5.000000</td>\n",
       "      <td>5.000000</td>\n",
       "      <td>5.000000</td>\n",
       "      <td>5.000000</td>\n",
       "    </tr>\n",
       "  </tbody>\n",
       "</table>\n",
       "</div>"
      ],
      "text/plain": [
       "       happinessStatus      onTime  expectedContents  allOrdered   goodPrice  \\\n",
       "count       126.000000  126.000000        126.000000  126.000000  126.000000   \n",
       "mean          0.547619    4.333333          2.531746    3.309524    3.746032   \n",
       "std           0.499714    0.800000          1.114892    1.023440    0.875776   \n",
       "min           0.000000    1.000000          1.000000    1.000000    1.000000   \n",
       "25%           0.000000    4.000000          2.000000    3.000000    3.000000   \n",
       "50%           1.000000    5.000000          3.000000    3.000000    4.000000   \n",
       "75%           1.000000    5.000000          3.000000    4.000000    4.000000   \n",
       "max           1.000000    5.000000          5.000000    5.000000    5.000000   \n",
       "\n",
       "       orderSatisfication  easyOrdering  \n",
       "count          126.000000    126.000000  \n",
       "mean             3.650794      4.253968  \n",
       "std              1.147641      0.809311  \n",
       "min              1.000000      1.000000  \n",
       "25%              3.000000      4.000000  \n",
       "50%              4.000000      4.000000  \n",
       "75%              4.000000      5.000000  \n",
       "max              5.000000      5.000000  "
      ]
     },
     "execution_count": 4,
     "metadata": {},
     "output_type": "execute_result"
    }
   ],
   "source": [
    "data.describe()"
   ]
  },
  {
   "cell_type": "code",
   "execution_count": 5,
   "id": "aa7cf6ee",
   "metadata": {},
   "outputs": [],
   "source": [
    "def resultsReport(actual, predictions) :\n",
    "    \n",
    "    # Print F1 Score\n",
    "    print('F1 Score ', f1_score(actual, predictions))\n",
    "    \n",
    "    # Visualize classification report with precision, recall and F1 score\n",
    "    print(classification_report(actual, predictions))\n",
    "\n",
    "    # Create Confusion matrix vector\n",
    "    confMatrix = confusion_matrix(actual, predictions)\n",
    "    dfConfMatrix = pd.DataFrame(confMatrix, index = [i for i in \"01\"], \n",
    "                                columns = [i for i in \"01\"])\n",
    "\n",
    "    # Plot Confusion matrix\n",
    "    sn.heatmap(dfConfMatrix, annot = True)\n",
    "    plt.ylabel('Actual Label')\n",
    "    plt.xlabel('Predicted Label')\n",
    "    plt.show()"
   ]
  },
  {
   "cell_type": "code",
   "execution_count": 6,
   "id": "c0bbced7",
   "metadata": {},
   "outputs": [],
   "source": [
    "def analyzeAttribute(data, colName) :\n",
    "    # Display Average\n",
    "    print(\"Average \" + colName + \" value: \", data[colName].mean())\n",
    "    \n",
    "    # Plot histogram\n",
    "    bins = np.arange(1,7) - 0.5\n",
    "    plt.hist(data[colName], bins)\n",
    "    plt.title(colName)\n",
    "    plt.show()"
   ]
  },
  {
   "cell_type": "code",
   "execution_count": 7,
   "id": "ae85e25f",
   "metadata": {},
   "outputs": [
    {
     "name": "stdout",
     "output_type": "stream",
     "text": [
      "Average onTime value:  4.333333333333333\n"
     ]
    },
    {
     "data": {
      "image/png": "[encoded data removed]",
      "text/plain": [
       "<Figure size 432x288 with 1 Axes>"
      ]
     },
     "metadata": {
      "needs_background": "light"
     },
     "output_type": "display_data"
    },
    {
     "name": "stdout",
     "output_type": "stream",
     "text": [
      "Average expectedContents value:  2.5317460317460316\n"
     ]
    },
    {
     "data": {
      "image/png": "[encoded data removed]",
      "text/plain": [
       "<Figure size 432x288 with 1 Axes>"
      ]
     },
     "metadata": {
      "needs_background": "light"
     },
     "output_type": "display_data"
    },
    {
     "name": "stdout",
     "output_type": "stream",
     "text": [
      "Average allOrdered value:  3.3095238095238093\n"
     ]
    },
    {
     "data": {
      "image/png": "[encoded data removed]",
      "text/plain": [
       "<Figure size 432x288 with 1 Axes>"
      ]
     },
     "metadata": {
      "needs_background": "light"
     },
     "output_type": "display_data"
    },
    {
     "name": "stdout",
     "output_type": "stream",
     "text": [
      "Average goodPrice value:  3.746031746031746\n"
     ]
    },
    {
     "data": {
      "image/png": "[encoded data removed]",
      "text/plain": [
       "<Figure size 432x288 with 1 Axes>"
      ]
     },
     "metadata": {
      "needs_background": "light"
     },
     "output_type": "display_data"
    },
    {
     "name": "stdout",
     "output_type": "stream",
     "text": [
      "Average orderSatisfication value:  3.6507936507936507\n"
     ]
    },
    {
     "data": {
      "image/png": "[encoded data removed]",
      "text/plain": [
       "<Figure size 432x288 with 1 Axes>"
      ]
     },
     "metadata": {
      "needs_background": "light"
     },
     "output_type": "display_data"
    },
    {
     "name": "stdout",
     "output_type": "stream",
     "text": [
      "Average easyOrdering value:  4.253968253968254\n"
     ]
    },
    {
     "data": {
      "image/png": "[encoded data removed]",
      "text/plain": [
       "<Figure size 432x288 with 1 Axes>"
      ]
     },
     "metadata": {
      "needs_background": "light"
     },
     "output_type": "display_data"
    }
   ],
   "source": [
    "for i in range(1,7):\n",
    "    analyzeAttribute(data, data.columns[i])"
   ]
  },
  {
   "cell_type": "markdown",
   "id": "16e24cf5",
   "metadata": {},
   "source": [
    "### Preprocess Data"
   ]
  },
  {
   "cell_type": "code",
   "execution_count": 8,
   "id": "f0f382ca",
   "metadata": {},
   "outputs": [],
   "source": [
    "X = data.drop(columns=\"happinessStatus\")\n",
    "y =data[\"happinessStatus\"]\n",
    "\n",
    "\n",
    "# split the data into training and testing data \n",
    "X_train, X_test, y_train, y_test=train_test_split(X, y, test_size=0.2,\n",
    "                                                 random_state=0)\n",
    "\n"
   ]
  },
  {
   "cell_type": "code",
   "execution_count": 9,
   "id": "d2cabf22",
   "metadata": {},
   "outputs": [
    {
     "data": {
      "text/plain": [
       "((100, 6), (26, 6), (100,), (26,))"
      ]
     },
     "execution_count": 9,
     "metadata": {},
     "output_type": "execute_result"
    }
   ],
   "source": [
    "X_train.shape, X_test.shape, y_train.shape, y_test.shape"
   ]
  },
  {
   "cell_type": "markdown",
   "id": "cd8db6cf",
   "metadata": {},
   "source": [
    "### Training Different Models\n",
    "\n",
    "#### 1) K Nearest Neighbours(KNN)"
   ]
  },
  {
   "cell_type": "code",
   "execution_count": 10,
   "id": "c3f32fe0",
   "metadata": {},
   "outputs": [],
   "source": [
    "from sklearn.neighbors import KNeighborsClassifier\n",
    "\n",
    "# define the model\n",
    "KNN = KNeighborsClassifier(n_neighbors =10)\n",
    "\n",
    "# fit the model\n",
    "KNN =KNN.fit(X_train, y_train)\n"
   ]
  },
  {
   "cell_type": "code",
   "execution_count": 11,
   "id": "d94ff815",
   "metadata": {},
   "outputs": [
    {
     "name": "stdout",
     "output_type": "stream",
     "text": [
      "\n",
      "Accuracy score to test set: 0.73\n",
      "\n",
      "F1 Score  0.7407407407407408\n",
      "              precision    recall  f1-score   support\n",
      "\n",
      "           0       0.75      0.69      0.72        13\n",
      "           1       0.71      0.77      0.74        13\n",
      "\n",
      "    accuracy                           0.73        26\n",
      "   macro avg       0.73      0.73      0.73        26\n",
      "weighted avg       0.73      0.73      0.73        26\n",
      "\n"
     ]
    },
    {
     "data": {
      "image/png": "[encoded data removed]",
      "text/plain": [
       "<Figure size 432x288 with 2 Axes>"
      ]
     },
     "metadata": {
      "needs_background": "light"
     },
     "output_type": "display_data"
    }
   ],
   "source": [
    "y_pred_knn = KNN.predict(X_test)\n",
    "print('\\nAccuracy score to test set: {}\\n'.format(round(accuracy_score(y_test, y_pred_knn),2)))\n",
    "resultsReport(y_test, y_pred_knn)"
   ]
  },
  {
   "cell_type": "markdown",
   "id": "87f7effc",
   "metadata": {},
   "source": [
    "### Hyperparameter tuning"
   ]
  },
  {
   "cell_type": "code",
   "execution_count": 12,
   "id": "5d8f0084",
   "metadata": {},
   "outputs": [
    {
     "name": "stdout",
     "output_type": "stream",
     "text": [
      "0.7407407407407408\n",
      "1_uniform_auto_1_1\n"
     ]
    }
   ],
   "source": [
    "# Hyperparameters list\n",
    "n_neighbors = range(1,20)\n",
    "weights = ['uniform', 'distance']\n",
    "algo = ['auto', 'ball_tree', 'kd_tree', 'brute']\n",
    "leafSize = range(1,30)\n",
    "power = [1,2]\n",
    "\n",
    "# Initialize model tracking variables\n",
    "bestScore = 0\n",
    "hyperParameterString = ''\n",
    "\n",
    "# Loop through combinations of hyperparameters\n",
    "for neigh in n_neighbors :\n",
    "    for weight in weights :\n",
    "        for alg in algo :\n",
    "            for leaf in leafSize :\n",
    "                for p in power:\n",
    "                    # Create model with hyperparameter set\n",
    "                    KNN = KNeighborsClassifier(n_neighbors = neigh,\n",
    "                                               weights = weight,\n",
    "                                               algorithm = alg,\n",
    "                                               leaf_size = leaf,\n",
    "                                               p = p)\n",
    "                    # Fit model to training data\n",
    "                    KNN = KNN.fit(X_train, y_train)\n",
    "\n",
    "                    # Make predictions on test data\n",
    "                    yPredict = KNN.predict(X_test)\n",
    "                    \n",
    "                    # Check if model scores better than any previous model\n",
    "                    if f1_score(y_test, y_pred_knn) > bestScore :\n",
    "                        # Update best score\n",
    "                        bestScore = f1_score(y_test, y_pred_knn)\n",
    "                        # Update hyperparameter String to keep track \n",
    "                        hyperParameterString = str(neigh) + '_' + weight + '_' + alg + '_' + str(leaf) + '_' + str(p)\n",
    "                        \n",
    "\n",
    "\n",
    "\n",
    "# Display results\n",
    "print(bestScore)\n",
    "print(hyperParameterString)"
   ]
  },
  {
   "cell_type": "code",
   "execution_count": 13,
   "id": "ced7a54f",
   "metadata": {},
   "outputs": [
    {
     "name": "stdout",
     "output_type": "stream",
     "text": [
      "\n",
      "Accuracy score to test set: 0.73\n",
      "\n",
      "F1 Score  0.7741935483870968\n",
      "              precision    recall  f1-score   support\n",
      "\n",
      "           0       0.88      0.54      0.67        13\n",
      "           1       0.67      0.92      0.77        13\n",
      "\n",
      "    accuracy                           0.73        26\n",
      "   macro avg       0.77      0.73      0.72        26\n",
      "weighted avg       0.77      0.73      0.72        26\n",
      "\n"
     ]
    },
    {
     "data": {
      "image/png": "[encoded data removed]",
      "text/plain": [
       "<Figure size 432x288 with 2 Axes>"
      ]
     },
     "metadata": {
      "needs_background": "light"
     },
     "output_type": "display_data"
    }
   ],
   "source": [
    "KNN =KNeighborsClassifier(n_neighbors=14,\n",
    "                         weights=\"uniform\",\n",
    "                         algorithm=\"auto\",\n",
    "                         leaf_size=25,\n",
    "                         p=1)\n",
    "\n",
    "# fit the model\n",
    "KNN =KNN.fit(X_train, y_train)\n",
    "\n",
    "# predict\n",
    "y_pred_knn =KNN.predict(X_test)\n",
    "print('\\nAccuracy score to test set: {}\\n'.format(round(accuracy_score(y_test, y_pred_knn),2)))\n",
    "# show result\n",
    "resultsReport(y_test, y_pred_knn)"
   ]
  },
  {
   "cell_type": "markdown",
   "id": "f6fb3fa6",
   "metadata": {},
   "source": [
    "### 2. Support Vector Machine (SVM)"
   ]
  },
  {
   "cell_type": "code",
   "execution_count": 14,
   "id": "d9d155fc",
   "metadata": {},
   "outputs": [
    {
     "name": "stdout",
     "output_type": "stream",
     "text": [
      "\n",
      "Accuracy score to test set: 0.5\n",
      "\n",
      "F1 Score  0.5517241379310345\n",
      "              precision    recall  f1-score   support\n",
      "\n",
      "           0       0.50      0.38      0.43        13\n",
      "           1       0.50      0.62      0.55        13\n",
      "\n",
      "    accuracy                           0.50        26\n",
      "   macro avg       0.50      0.50      0.49        26\n",
      "weighted avg       0.50      0.50      0.49        26\n",
      "\n"
     ]
    },
    {
     "data": {
      "image/png": "[encoded data removed]",
      "text/plain": [
       "<Figure size 432x288 with 2 Axes>"
      ]
     },
     "metadata": {
      "needs_background": "light"
     },
     "output_type": "display_data"
    }
   ],
   "source": [
    "from sklearn import svm\n",
    "from sklearn.pipeline import Pipeline\n",
    "from sklearn.preprocessing import StandardScaler\n",
    "\n",
    "# create the model\n",
    "SVM_clf =Pipeline([(\"scale\", StandardScaler()),\n",
    "              (\"SVM\", svm.SVC())])\n",
    "\n",
    "# fit the model\n",
    "SVM_clf=SVM_clf.fit(X_train, y_train)\n",
    "\n",
    "# make prediction on test data\n",
    "y_pred_svm = SVM_clf.predict(X_test)\n",
    "print('\\nAccuracy score to test set: {}\\n'.format(round(accuracy_score(y_test, y_pred_svm),2)))\n",
    "resultsReport(y_test, y_pred_svm)\n"
   ]
  },
  {
   "cell_type": "markdown",
   "id": "85b4c11c",
   "metadata": {},
   "source": [
    "### Hyperparameter tuning for SVM"
   ]
  },
  {
   "cell_type": "code",
   "execution_count": 15,
   "id": "93d40360",
   "metadata": {},
   "outputs": [
    {
     "name": "stdout",
     "output_type": "stream",
     "text": [
      "0.8000000000000002\n",
      "linear_1_scale\n"
     ]
    }
   ],
   "source": [
    "# SVM\n",
    "# Hyper parameter options\n",
    "kernelType = ['linear', 'poly', 'rbf', 'sigmoid']#, 'precomputed']\n",
    "degree = [1, 2, 3, 4] # Only applicable for kernel = poly\n",
    "gamma = ['scale', 'auto'] # Only applicable for kernel = rbf poly or sigmoid\n",
    "\n",
    "# Performance trackign variables\n",
    "bestScore = 0\n",
    "hyperParameterString = ''\n",
    "\n",
    "# Loop through hyperparameters and create specific models\n",
    "for k in kernelType :\n",
    "    for d in degree :\n",
    "        for g in gamma :\n",
    "            \n",
    "            # Create models with hyper parameter set\n",
    "            SVM_clf = Pipeline([('scale', StandardScaler()),# Scale inputs to 0 mean and 1 variance\n",
    "                              ('SVM', svm.SVC(kernel=k, degree=d, gamma=g))])\n",
    "            # Train Model\n",
    "            SVM_clf  = SVM_clf.fit(X_train, y_train)\n",
    "            \n",
    "            # Make predictions on test data set\n",
    "            y_pred_svm = SVM_clf.predict(X_test)\n",
    "            \n",
    "            # Check if model produced a score better than the previous best\n",
    "            if f1_score(y_test, y_pred_knn) > bestScore :\n",
    "                # Update best score tracking variable\n",
    "                bestScore = f1_score(y_test, y_pred_svm)\n",
    "                # Update hyperparameter string to keep track of settings that produced the best model\n",
    "                hyperParameterString = k + '_' + str(d) + '_' + g\n",
    "\n",
    "# Display best model result\n",
    "print(bestScore)\n",
    "print(hyperParameterString)"
   ]
  },
  {
   "cell_type": "code",
   "execution_count": 16,
   "id": "7730fa0f",
   "metadata": {},
   "outputs": [
    {
     "name": "stdout",
     "output_type": "stream",
     "text": [
      "\n",
      "Accuracy score to test set: 0.77\n",
      "\n",
      "F1 Score  0.8000000000000002\n",
      "              precision    recall  f1-score   support\n",
      "\n",
      "           0       0.89      0.62      0.73        13\n",
      "           1       0.71      0.92      0.80        13\n",
      "\n",
      "    accuracy                           0.77        26\n",
      "   macro avg       0.80      0.77      0.76        26\n",
      "weighted avg       0.80      0.77      0.76        26\n",
      "\n"
     ]
    },
    {
     "data": {
      "image/png": "[encoded data removed]",
      "text/plain": [
       "<Figure size 432x288 with 2 Axes>"
      ]
     },
     "metadata": {
      "needs_background": "light"
     },
     "output_type": "display_data"
    }
   ],
   "source": [
    "SVM_clf = Pipeline([('scale', StandardScaler()),# Scale inputs to 0 mean and 1 variance\n",
    "                    ('SVM', svm.SVC(kernel='linear', degree=1, gamma='scale'))])\n",
    "\n",
    "# train the model\n",
    "SVM_clf=SVM_clf.fit(X_train, y_train)\n",
    "\n",
    "# preditc the data\n",
    "y_pred_svm =SVM_clf.predict(X_test)\n",
    "print('\\nAccuracy score to test set: {}\\n'.format(round(accuracy_score(y_test, y_pred_svm),2)))\n",
    "resultsReport(y_test, y_pred_svm)"
   ]
  },
  {
   "cell_type": "markdown",
   "id": "6f5e6bf1",
   "metadata": {},
   "source": [
    "### 3. Logistic regression"
   ]
  },
  {
   "cell_type": "code",
   "execution_count": 17,
   "id": "a24437bd",
   "metadata": {},
   "outputs": [
    {
     "name": "stdout",
     "output_type": "stream",
     "text": [
      "\n",
      "Accuracy score to test set: 0.62\n",
      "\n",
      "F1 Score  0.6875\n",
      "              precision    recall  f1-score   support\n",
      "\n",
      "           0       0.71      0.38      0.50        13\n",
      "           1       0.58      0.85      0.69        13\n",
      "\n",
      "    accuracy                           0.62        26\n",
      "   macro avg       0.65      0.62      0.59        26\n",
      "weighted avg       0.65      0.62      0.59        26\n",
      "\n"
     ]
    },
    {
     "data": {
      "image/png": "[encoded data removed]",
      "text/plain": [
       "<Figure size 432x288 with 2 Axes>"
      ]
     },
     "metadata": {
      "needs_background": "light"
     },
     "output_type": "display_data"
    }
   ],
   "source": [
    "from sklearn.linear_model import LogisticRegression\n",
    "# create model\n",
    "logReg = LogisticRegression(max_iter=10000000)\n",
    "\n",
    "# fit the model\n",
    "logReg=logReg.fit(X_train, y_train)\n",
    "\n",
    "# predict the model\n",
    "y_pred_lg =logReg.predict(X_test)\n",
    "\n",
    "print('\\nAccuracy score to test set: {}\\n'.format(round(accuracy_score(y_test, y_pred_lg),2)))\n",
    "resultsReport(y_test, y_pred_lg)"
   ]
  },
  {
   "cell_type": "markdown",
   "id": "c2afae6b",
   "metadata": {},
   "source": [
    "### 4. Decision Tree"
   ]
  },
  {
   "cell_type": "code",
   "execution_count": 18,
   "id": "e531b53b",
   "metadata": {},
   "outputs": [
    {
     "name": "stdout",
     "output_type": "stream",
     "text": [
      "\n",
      "Accuracy score to test set: 0.5\n",
      "\n",
      "F1 Score  0.48000000000000004\n",
      "              precision    recall  f1-score   support\n",
      "\n",
      "           0       0.50      0.54      0.52        13\n",
      "           1       0.50      0.46      0.48        13\n",
      "\n",
      "    accuracy                           0.50        26\n",
      "   macro avg       0.50      0.50      0.50        26\n",
      "weighted avg       0.50      0.50      0.50        26\n",
      "\n"
     ]
    },
    {
     "data": {
      "image/png": "[encoded data removed]",
      "text/plain": [
       "<Figure size 432x288 with 2 Axes>"
      ]
     },
     "metadata": {
      "needs_background": "light"
     },
     "output_type": "display_data"
    }
   ],
   "source": [
    "from sklearn.tree import DecisionTreeClassifier\n",
    "\n",
    "tree=DecisionTreeClassifier()\n",
    "tree.fit(X_train, y_train)\n",
    "\n",
    "y_pred_dt  =tree.predict(X_test)\n",
    "print('\\nAccuracy score to test set: {}\\n'.format(round(accuracy_score(y_test, y_pred_dt),2)))\n",
    "resultsReport(y_test, y_pred_dt)"
   ]
  },
  {
   "cell_type": "markdown",
   "id": "bfb11aba",
   "metadata": {},
   "source": [
    "### Decision Tree Hyperparameter Tuning"
   ]
  },
  {
   "cell_type": "code",
   "execution_count": 19,
   "id": "d1e9e305",
   "metadata": {},
   "outputs": [
    {
     "name": "stdout",
     "output_type": "stream",
     "text": [
      "0.7142857142857142\n",
      "gini_random_5\n"
     ]
    }
   ],
   "source": [
    "# Decision Tree\n",
    "# Hyperparameter options\n",
    "criterion = ['gini', 'entropy']\n",
    "splitter = ['best', 'random']\n",
    "max_depth = range(3,10)\n",
    "\n",
    "# Performance trackign variables\n",
    "bestScore = 0\n",
    "hyperParameterString = ''\n",
    "\n",
    "for c in criterion :\n",
    "    for s in splitter :\n",
    "        for m in max_depth :\n",
    "            tree = DecisionTreeClassifier(criterion=c, splitter=s, max_depth=m)\n",
    "            tree = tree.fit(X_train, y_train)\n",
    "            \n",
    "            y_pred_dt = tree.predict(X_test)\n",
    "            \n",
    "            if f1_score(y_test, y_pred_dt) > bestScore :\n",
    "                bestScore = f1_score(y_test, y_pred_dt)\n",
    "                hyperParameterString = c + '_' + s + '_' + str(m)\n",
    "                \n",
    "print(bestScore)\n",
    "print(hyperParameterString)"
   ]
  },
  {
   "cell_type": "code",
   "execution_count": 20,
   "id": "91f49dbf",
   "metadata": {},
   "outputs": [
    {
     "name": "stdout",
     "output_type": "stream",
     "text": [
      "\n",
      "Accuracy score to test set: 0.42\n",
      "\n",
      "F1 Score  0.5161290322580646\n",
      "              precision    recall  f1-score   support\n",
      "\n",
      "           0       0.38      0.23      0.29        13\n",
      "           1       0.44      0.62      0.52        13\n",
      "\n",
      "    accuracy                           0.42        26\n",
      "   macro avg       0.41      0.42      0.40        26\n",
      "weighted avg       0.41      0.42      0.40        26\n",
      "\n"
     ]
    },
    {
     "data": {
      "image/png": "[encoded data removed]",
      "text/plain": [
       "<Figure size 432x288 with 2 Axes>"
      ]
     },
     "metadata": {
      "needs_background": "light"
     },
     "output_type": "display_data"
    }
   ],
   "source": [
    "tree = DecisionTreeClassifier(criterion=\"entropy\",\n",
    "                             splitter=\"random\",\n",
    "                             max_depth=4)\n",
    "tree =tree.fit(X_train, y_train)\n",
    "y_pred_dt=tree.predict(X_test)\n",
    "print('\\nAccuracy score to test set: {}\\n'.format(round(accuracy_score(y_test, y_pred_dt),2)))\n",
    "resultsReport(y_test, y_pred_dt)"
   ]
  },
  {
   "cell_type": "markdown",
   "id": "f8ac6aff",
   "metadata": {},
   "source": [
    "### 5. Random Forest"
   ]
  },
  {
   "cell_type": "code",
   "execution_count": 21,
   "id": "6576e84d",
   "metadata": {},
   "outputs": [
    {
     "name": "stdout",
     "output_type": "stream",
     "text": [
      "The Accuracy is : 0.5769230769230769\n",
      "\n",
      "\n",
      "Classification report:\n",
      "               precision    recall  f1-score   support\n",
      "\n",
      "           0       0.60      0.46      0.52        13\n",
      "           1       0.56      0.69      0.62        13\n",
      "\n",
      "    accuracy                           0.58        26\n",
      "   macro avg       0.58      0.58      0.57        26\n",
      "weighted avg       0.58      0.58      0.57        26\n",
      "\n",
      "F1 Score  0.6206896551724138\n",
      "              precision    recall  f1-score   support\n",
      "\n",
      "           0       0.60      0.46      0.52        13\n",
      "           1       0.56      0.69      0.62        13\n",
      "\n",
      "    accuracy                           0.58        26\n",
      "   macro avg       0.58      0.58      0.57        26\n",
      "weighted avg       0.58      0.58      0.57        26\n",
      "\n"
     ]
    },
    {
     "data": {
      "image/png": "[encoded data removed]",
      "text/plain": [
       "<Figure size 432x288 with 2 Axes>"
      ]
     },
     "metadata": {
      "needs_background": "light"
     },
     "output_type": "display_data"
    }
   ],
   "source": [
    "from sklearn.ensemble import RandomForestClassifier\n",
    "# Create Random Forest classifier with default parameters\n",
    "clf = RandomForestClassifier(n_estimators=8)\n",
    "                             \n",
    "\n",
    "# Fit model to the train set\n",
    "clf.fit(X_train, y_train)\n",
    "\n",
    "# Predict values from the test set\n",
    "y_pred_rf= clf.predict(X_test)\n",
    "acc_RFC = accuracy_score(y_test, y_pred_rf)\n",
    "\n",
    "# Accuracy score and classification report of the model\n",
    "print('The Accuracy is : {}\\n\\n'.format(acc_RFC) )\n",
    "print('Classification report:\\n',classification_report(y_test, y_pred_rf))\n",
    "resultsReport(y_test, y_pred_rf)"
   ]
  },
  {
   "cell_type": "code",
   "execution_count": 22,
   "id": "112aa502",
   "metadata": {},
   "outputs": [],
   "source": [
    "from sklearn.model_selection import GridSearchCV"
   ]
  },
  {
   "cell_type": "code",
   "execution_count": 23,
   "id": "15c70efe",
   "metadata": {},
   "outputs": [
    {
     "name": "stdout",
     "output_type": "stream",
     "text": [
      "Fitting 3 folds for each of 16 candidates, totalling 48 fits\n",
      "{'max_depth': 8, 'max_features': 'sqrt', 'min_samples_leaf': 0.1, 'n_estimators': 300}\n",
      "0.6298276886512181\n",
      "RandomForestClassifier(max_depth=8, max_features='sqrt', min_samples_leaf=0.1,\n",
      "                       n_estimators=300)\n",
      "\n",
      "Accuracy score to test set: 0.58\n",
      "\n"
     ]
    }
   ],
   "source": [
    "# Create parameters list\n",
    "param_dist = {'n_estimators':[200,300], \n",
    "              'max_depth':[6,8], \n",
    "              'min_samples_leaf':[0.1,0.2], \n",
    "              'max_features':['log2','sqrt']}\n",
    "\n",
    "# Create Random Forest classifier for Grid Search and fit it to train set\n",
    "tree_clf = RandomForestClassifier()\n",
    "tree_cv = GridSearchCV(tree_clf, param_dist, cv = 3, verbose = 1, scoring = 'accuracy',n_jobs = 4)\n",
    "tree_cv.fit(X_train, y_train)\n",
    "\n",
    "# Print parameters of the model\n",
    "print(tree_cv.best_params_)\n",
    "print(tree_cv.best_score_)\n",
    "print(tree_cv.best_estimator_)\n",
    "\n",
    "# Print accuracy score of the model to test set\n",
    "y_pred = tree_cv.predict(X_test)\n",
    "print('\\nAccuracy score to test set: {}\\n'.format(round(accuracy_score(y_test, y_pred_rf),2)))"
   ]
  },
  {
   "cell_type": "code",
   "execution_count": 24,
   "id": "cee269e1",
   "metadata": {},
   "outputs": [
    {
     "name": "stdout",
     "output_type": "stream",
     "text": [
      "[0 0 1 0 0 1 0 1 0 1 0 1 1 0 0 0 1 1 1 1 1 1 1 1 1 0 0 0 0 1 1 0 0 0 0 1 1\n",
      " 1 0 0 1 0 1 1 0 1 1 0 1 0 0 0 1 1 1 1 0 0 1 0 0 1 1 1 0 0 0 1 1 1 0 0 0 1\n",
      " 1 0 1 1 1 1 1 0 1 0 1 1 0 0 1 0 0 1 1 1 0 1 1 1 0 1 1 1 0 1 0 1 1 1 1 1 1\n",
      " 1 1 1 1 1 0 1 1 1 0 1 0 1 1 1]\n"
     ]
    }
   ],
   "source": [
    "from sklearn.model_selection import cross_val_predict\n",
    "\n",
    "predicted_y = cross_val_predict(KNN, X, y, cv=10)\n",
    "print(predicted_y)"
   ]
  },
  {
   "cell_type": "markdown",
   "id": "09ed4b54",
   "metadata": {},
   "source": [
    "**Goal(s):**\n",
    "\n",
    "Predict if a customer is happy or not based on the answers they give to questions asked.\n",
    "\n",
    "**Success Metrics:**\n",
    "\n",
    "* Reach 73% accuracy score or above, or convince us why your solution is superior. We are definitely interested in every solution and insight you can provide us.\n",
    "\n",
    "* Try to submit your working solution as soon as possible. The sooner the better."
   ]
  },
  {
   "cell_type": "markdown",
   "id": "debf515b",
   "metadata": {},
   "source": [
    "**Support Vector Machine (SVM)** give the highest accuracy and F1 scores, so I chose this model.\n",
    "\n",
    "\n"
   ]
  },
  {
   "cell_type": "code",
   "execution_count": 26,
   "id": "a0b2a7ba",
   "metadata": {},
   "outputs": [
    {
     "name": "stdout",
     "output_type": "stream",
     "text": [
      "\n",
      "Accuracy score to test set: 0.77\n",
      "\n",
      "F1 Score  0.8000000000000002\n",
      "              precision    recall  f1-score   support\n",
      "\n",
      "           0       0.89      0.62      0.73        13\n",
      "           1       0.71      0.92      0.80        13\n",
      "\n",
      "    accuracy                           0.77        26\n",
      "   macro avg       0.80      0.77      0.76        26\n",
      "weighted avg       0.80      0.77      0.76        26\n",
      "\n"
     ]
    },
    {
     "data": {
      "image/png": "[encoded data removed]",
      "text/plain": [
       "<Figure size 432x288 with 2 Axes>"
      ]
     },
     "metadata": {
      "needs_background": "light"
     },
     "output_type": "display_data"
    }
   ],
   "source": [
    "SVM_clf = Pipeline([('scale', StandardScaler()),# Scale inputs to 0 mean and 1 variance\n",
    "                    ('SVM', svm.SVC(kernel='linear', degree=1, gamma='scale'))])\n",
    "\n",
    "# train the model\n",
    "SVM_clf=SVM_clf.fit(X_train, y_train)\n",
    "\n",
    "# preditc the data\n",
    "y_pred_svm =SVM_clf.predict(X_test)\n",
    "print('\\nAccuracy score to test set: {}\\n'.format(round(accuracy_score(y_test, y_pred_svm),2)))\n",
    "resultsReport(y_test, y_pred_svm)"
   ]
  },
  {
   "cell_type": "markdown",
   "id": "43090112",
   "metadata": {},
   "source": [
    "**Bonus(es):**\n",
    "\n",
    "We are very interested in finding which questions/features are more important when predicting a customer’s happiness. Using a feature selection approach show us understand what is the minimal set of attributes/features that would preserve the most information about the problem while increasing predictability of the data we have. Is there any question that we can remove in our next survey?"
   ]
  },
  {
   "cell_type": "markdown",
   "id": "b210648c",
   "metadata": {},
   "source": [
    "### Finding feature importances"
   ]
  },
  {
   "cell_type": "code",
   "execution_count": 27,
   "id": "86d2d74f",
   "metadata": {},
   "outputs": [],
   "source": [
    "from sklearn.feature_selection import SelectKBest, chi2\n",
    "\n",
    "bestfeatures =SelectKBest(score_func=chi2, k=5)\n",
    "fit = bestfeatures.fit(X, y)"
   ]
  },
  {
   "cell_type": "code",
   "execution_count": 28,
   "id": "fd62397a",
   "metadata": {},
   "outputs": [],
   "source": [
    "dfscores=pd.DataFrame(fit.scores_)\n",
    "dfcolumns =pd.DataFrame(X.columns)"
   ]
  },
  {
   "cell_type": "code",
   "execution_count": 29,
   "id": "a4a245d2",
   "metadata": {},
   "outputs": [
    {
     "data": {
      "text/html": [
       "<div>\n",
       "<style scoped>\n",
       "    .dataframe tbody tr th:only-of-type {\n",
       "        vertical-align: middle;\n",
       "    }\n",
       "\n",
       "    .dataframe tbody tr th {\n",
       "        vertical-align: top;\n",
       "    }\n",
       "\n",
       "    .dataframe thead th {\n",
       "        text-align: right;\n",
       "    }\n",
       "</style>\n",
       "<table border=\"1\" class=\"dataframe\">\n",
       "  <thead>\n",
       "    <tr style=\"text-align: right;\">\n",
       "      <th></th>\n",
       "      <th>Specs</th>\n",
       "      <th>Score</th>\n",
       "    </tr>\n",
       "  </thead>\n",
       "  <tbody>\n",
       "    <tr>\n",
       "      <th>0</th>\n",
       "      <td>onTime</td>\n",
       "      <td>1.449041</td>\n",
       "    </tr>\n",
       "    <tr>\n",
       "      <th>1</th>\n",
       "      <td>expectedContents</td>\n",
       "      <td>0.036161</td>\n",
       "    </tr>\n",
       "    <tr>\n",
       "      <th>2</th>\n",
       "      <td>allOrdered</td>\n",
       "      <td>0.900104</td>\n",
       "    </tr>\n",
       "    <tr>\n",
       "      <th>3</th>\n",
       "      <td>goodPrice</td>\n",
       "      <td>0.106194</td>\n",
       "    </tr>\n",
       "    <tr>\n",
       "      <th>4</th>\n",
       "      <td>orderSatisfication</td>\n",
       "      <td>2.273286</td>\n",
       "    </tr>\n",
       "    <tr>\n",
       "      <th>5</th>\n",
       "      <td>easyOrdering</td>\n",
       "      <td>0.541070</td>\n",
       "    </tr>\n",
       "  </tbody>\n",
       "</table>\n",
       "</div>"
      ],
      "text/plain": [
       "                Specs     Score\n",
       "0              onTime  1.449041\n",
       "1    expectedContents  0.036161\n",
       "2          allOrdered  0.900104\n",
       "3           goodPrice  0.106194\n",
       "4  orderSatisfication  2.273286\n",
       "5        easyOrdering  0.541070"
      ]
     },
     "execution_count": 29,
     "metadata": {},
     "output_type": "execute_result"
    }
   ],
   "source": [
    "featureScores =pd.concat([dfcolumns, dfscores],axis=1)\n",
    "featureScores.columns= [\"Specs\", \"Score\"]\n",
    "\n",
    "featureScores"
   ]
  },
  {
   "cell_type": "code",
   "execution_count": 32,
   "id": "c2552fa1",
   "metadata": {
    "scrolled": true
   },
   "outputs": [
    {
     "data": {
      "image/png": "[encoded data removed]",
      "text/plain": [
       "<Figure size 720x720 with 2 Axes>"
      ]
     },
     "metadata": {
      "needs_background": "light"
     },
     "output_type": "display_data"
    }
   ],
   "source": [
    "import seaborn as sns\n",
    "\n",
    "corrmat=data.corr()\n",
    "top_corr_features=corrmat.index\n",
    "plt.figure(figsize=(10,10))\n",
    "# plot heatmap\n",
    "g =sns.heatmap(data[top_corr_features].corr(), annot=True, cmap =\"RdYlGn\")"
   ]
  },
  {
   "cell_type": "code",
   "execution_count": null,
   "id": "7a7f6b40",
   "metadata": {},
   "outputs": [],
   "source": []
  }
 ],
 "metadata": {
  "kernelspec": {
   "display_name": "Python 3 (ipykernel)",
   "language": "python",
   "name": "python3"
  },
  "language_info": {
   "codemirror_mode": {
    "name": "ipython",
    "version": 3
   },
   "file_extension": ".py",
   "mimetype": "text/x-python",
   "name": "python",
   "nbconvert_exporter": "python",
   "pygments_lexer": "ipython3",
   "version": "3.9.7"
  }
 },
 "nbformat": 4,
 "nbformat_minor": 5
}
