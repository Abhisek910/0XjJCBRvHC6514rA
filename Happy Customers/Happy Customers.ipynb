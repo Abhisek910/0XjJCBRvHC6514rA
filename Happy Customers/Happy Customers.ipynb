{
 "cells": [
  {
   "cell_type": "markdown",
   "id": "633c06e0",
   "metadata": {},
   "source": [
    "## Predicting if a customer is happy 😃 or not based 😟 on the answers they give to questions asked."
   ]
  },
  {
   "cell_type": "markdown",
   "id": "f099993f",
   "metadata": {},
   "source": [
    "The CSV file contains 7 features. The Y value will be a binary happiness value while the other features are integers from 1-5.  These attributes are as follows:\n",
    "\n",
    "* `X1` - The order was delivered on time\n",
    "* `X2` - The contents of the order was as expected\n",
    "* `X3` - Ordered everything they wanted to\n",
    "* `X4` - Paid a good price for the order\n",
    "* `X5` - Satisfied with the order\n",
    "* `X6` - The app made ordering easy\n",
    "\n",
    "\n",
    "**Further analysis will be done to learn which attributes most significantly affect customer happiness**"
   ]
  },
  {
   "cell_type": "markdown",
   "id": "b94231fc",
   "metadata": {},
   "source": [
    "### Importing Modules and Data"
   ]
  },
  {
   "cell_type": "code",
   "execution_count": 1,
   "id": "b78029c7",
   "metadata": {},
   "outputs": [],
   "source": [
    "import numpy as np\n",
    "import pandas as pd\n",
    "import sklearn \n",
    "import matplotlib.pyplot as plt\n",
    "import random\n",
    "import seaborn as sn\n",
    "from sklearn.model_selection import train_test_split\n",
    "from sklearn.metrics import confusion_matrix, classification_report, f1_score, accuracy_score\n"
   ]
  },
  {
   "cell_type": "code",
   "execution_count": 2,
   "id": "db4ebecc",
   "metadata": {},
   "outputs": [
    {
     "data": {
      "text/html": [
       "<div>\n",
       "<style scoped>\n",
       "    .dataframe tbody tr th:only-of-type {\n",
       "        vertical-align: middle;\n",
       "    }\n",
       "\n",
       "    .dataframe tbody tr th {\n",
       "        vertical-align: top;\n",
       "    }\n",
       "\n",
       "    .dataframe thead th {\n",
       "        text-align: right;\n",
       "    }\n",
       "</style>\n",
       "<table border=\"1\" class=\"dataframe\">\n",
       "  <thead>\n",
       "    <tr style=\"text-align: right;\">\n",
       "      <th></th>\n",
       "      <th>Y</th>\n",
       "      <th>X1</th>\n",
       "      <th>X2</th>\n",
       "      <th>X3</th>\n",
       "      <th>X4</th>\n",
       "      <th>X5</th>\n",
       "      <th>X6</th>\n",
       "    </tr>\n",
       "  </thead>\n",
       "  <tbody>\n",
       "    <tr>\n",
       "      <th>0</th>\n",
       "      <td>0</td>\n",
       "      <td>3</td>\n",
       "      <td>3</td>\n",
       "      <td>3</td>\n",
       "      <td>4</td>\n",
       "      <td>2</td>\n",
       "      <td>4</td>\n",
       "    </tr>\n",
       "    <tr>\n",
       "      <th>1</th>\n",
       "      <td>0</td>\n",
       "      <td>3</td>\n",
       "      <td>2</td>\n",
       "      <td>3</td>\n",
       "      <td>5</td>\n",
       "      <td>4</td>\n",
       "      <td>3</td>\n",
       "    </tr>\n",
       "    <tr>\n",
       "      <th>2</th>\n",
       "      <td>1</td>\n",
       "      <td>5</td>\n",
       "      <td>3</td>\n",
       "      <td>3</td>\n",
       "      <td>3</td>\n",
       "      <td>3</td>\n",
       "      <td>5</td>\n",
       "    </tr>\n",
       "    <tr>\n",
       "      <th>3</th>\n",
       "      <td>0</td>\n",
       "      <td>5</td>\n",
       "      <td>4</td>\n",
       "      <td>3</td>\n",
       "      <td>3</td>\n",
       "      <td>3</td>\n",
       "      <td>5</td>\n",
       "    </tr>\n",
       "    <tr>\n",
       "      <th>4</th>\n",
       "      <td>0</td>\n",
       "      <td>5</td>\n",
       "      <td>4</td>\n",
       "      <td>3</td>\n",
       "      <td>3</td>\n",
       "      <td>3</td>\n",
       "      <td>5</td>\n",
       "    </tr>\n",
       "  </tbody>\n",
       "</table>\n",
       "</div>"
      ],
      "text/plain": [
       "   Y  X1  X2  X3  X4  X5  X6\n",
       "0  0   3   3   3   4   2   4\n",
       "1  0   3   2   3   5   4   3\n",
       "2  1   5   3   3   3   3   5\n",
       "3  0   5   4   3   3   3   5\n",
       "4  0   5   4   3   3   3   5"
      ]
     },
     "execution_count": 2,
     "metadata": {},
     "output_type": "execute_result"
    }
   ],
   "source": [
    "data = pd.read_csv(\"ACME-HappinessSurvey2020.csv\")\n",
    "data.head()"
   ]
  },
  {
   "cell_type": "code",
   "execution_count": 3,
   "id": "455791bb",
   "metadata": {},
   "outputs": [
    {
     "data": {
      "text/html": [
       "<div>\n",
       "<style scoped>\n",
       "    .dataframe tbody tr th:only-of-type {\n",
       "        vertical-align: middle;\n",
       "    }\n",
       "\n",
       "    .dataframe tbody tr th {\n",
       "        vertical-align: top;\n",
       "    }\n",
       "\n",
       "    .dataframe thead th {\n",
       "        text-align: right;\n",
       "    }\n",
       "</style>\n",
       "<table border=\"1\" class=\"dataframe\">\n",
       "  <thead>\n",
       "    <tr style=\"text-align: right;\">\n",
       "      <th></th>\n",
       "      <th>happinessStatus</th>\n",
       "      <th>onTime</th>\n",
       "      <th>expectedContents</th>\n",
       "      <th>allOrdered</th>\n",
       "      <th>goodPrice</th>\n",
       "      <th>orderSatisfication</th>\n",
       "      <th>easyOrdering</th>\n",
       "    </tr>\n",
       "  </thead>\n",
       "  <tbody>\n",
       "    <tr>\n",
       "      <th>0</th>\n",
       "      <td>0</td>\n",
       "      <td>3</td>\n",
       "      <td>3</td>\n",
       "      <td>3</td>\n",
       "      <td>4</td>\n",
       "      <td>2</td>\n",
       "      <td>4</td>\n",
       "    </tr>\n",
       "    <tr>\n",
       "      <th>1</th>\n",
       "      <td>0</td>\n",
       "      <td>3</td>\n",
       "      <td>2</td>\n",
       "      <td>3</td>\n",
       "      <td>5</td>\n",
       "      <td>4</td>\n",
       "      <td>3</td>\n",
       "    </tr>\n",
       "    <tr>\n",
       "      <th>2</th>\n",
       "      <td>1</td>\n",
       "      <td>5</td>\n",
       "      <td>3</td>\n",
       "      <td>3</td>\n",
       "      <td>3</td>\n",
       "      <td>3</td>\n",
       "      <td>5</td>\n",
       "    </tr>\n",
       "    <tr>\n",
       "      <th>3</th>\n",
       "      <td>0</td>\n",
       "      <td>5</td>\n",
       "      <td>4</td>\n",
       "      <td>3</td>\n",
       "      <td>3</td>\n",
       "      <td>3</td>\n",
       "      <td>5</td>\n",
       "    </tr>\n",
       "    <tr>\n",
       "      <th>4</th>\n",
       "      <td>0</td>\n",
       "      <td>5</td>\n",
       "      <td>4</td>\n",
       "      <td>3</td>\n",
       "      <td>3</td>\n",
       "      <td>3</td>\n",
       "      <td>5</td>\n",
       "    </tr>\n",
       "  </tbody>\n",
       "</table>\n",
       "</div>"
      ],
      "text/plain": [
       "   happinessStatus  onTime  expectedContents  allOrdered  goodPrice  \\\n",
       "0                0       3                 3           3          4   \n",
       "1                0       3                 2           3          5   \n",
       "2                1       5                 3           3          3   \n",
       "3                0       5                 4           3          3   \n",
       "4                0       5                 4           3          3   \n",
       "\n",
       "   orderSatisfication  easyOrdering  \n",
       "0                   2             4  \n",
       "1                   4             3  \n",
       "2                   3             5  \n",
       "3                   3             5  \n",
       "4                   3             5  "
      ]
     },
     "execution_count": 3,
     "metadata": {},
     "output_type": "execute_result"
    }
   ],
   "source": [
    "data.columns = ['happinessStatus', 'onTime', 'expectedContents', \n",
    "                'allOrdered', 'goodPrice', 'orderSatisfication', 'easyOrdering']\n",
    "data.head()"
   ]
  },
  {
   "cell_type": "markdown",
   "id": "e59c1ff0",
   "metadata": {},
   "source": [
    "### Visualize the data"
   ]
  },
  {
   "cell_type": "code",
   "execution_count": 4,
   "id": "f462d737",
   "metadata": {},
   "outputs": [
    {
     "data": {
      "text/html": [
       "<div>\n",
       "<style scoped>\n",
       "    .dataframe tbody tr th:only-of-type {\n",
       "        vertical-align: middle;\n",
       "    }\n",
       "\n",
       "    .dataframe tbody tr th {\n",
       "        vertical-align: top;\n",
       "    }\n",
       "\n",
       "    .dataframe thead th {\n",
       "        text-align: right;\n",
       "    }\n",
       "</style>\n",
       "<table border=\"1\" class=\"dataframe\">\n",
       "  <thead>\n",
       "    <tr style=\"text-align: right;\">\n",
       "      <th></th>\n",
       "      <th>happinessStatus</th>\n",
       "      <th>onTime</th>\n",
       "      <th>expectedContents</th>\n",
       "      <th>allOrdered</th>\n",
       "      <th>goodPrice</th>\n",
       "      <th>orderSatisfication</th>\n",
       "      <th>easyOrdering</th>\n",
       "    </tr>\n",
       "  </thead>\n",
       "  <tbody>\n",
       "    <tr>\n",
       "      <th>count</th>\n",
       "      <td>126.000000</td>\n",
       "      <td>126.000000</td>\n",
       "      <td>126.000000</td>\n",
       "      <td>126.000000</td>\n",
       "      <td>126.000000</td>\n",
       "      <td>126.000000</td>\n",
       "      <td>126.000000</td>\n",
       "    </tr>\n",
       "    <tr>\n",
       "      <th>mean</th>\n",
       "      <td>0.547619</td>\n",
       "      <td>4.333333</td>\n",
       "      <td>2.531746</td>\n",
       "      <td>3.309524</td>\n",
       "      <td>3.746032</td>\n",
       "      <td>3.650794</td>\n",
       "      <td>4.253968</td>\n",
       "    </tr>\n",
       "    <tr>\n",
       "      <th>std</th>\n",
       "      <td>0.499714</td>\n",
       "      <td>0.800000</td>\n",
       "      <td>1.114892</td>\n",
       "      <td>1.023440</td>\n",
       "      <td>0.875776</td>\n",
       "      <td>1.147641</td>\n",
       "      <td>0.809311</td>\n",
       "    </tr>\n",
       "    <tr>\n",
       "      <th>min</th>\n",
       "      <td>0.000000</td>\n",
       "      <td>1.000000</td>\n",
       "      <td>1.000000</td>\n",
       "      <td>1.000000</td>\n",
       "      <td>1.000000</td>\n",
       "      <td>1.000000</td>\n",
       "      <td>1.000000</td>\n",
       "    </tr>\n",
       "    <tr>\n",
       "      <th>25%</th>\n",
       "      <td>0.000000</td>\n",
       "      <td>4.000000</td>\n",
       "      <td>2.000000</td>\n",
       "      <td>3.000000</td>\n",
       "      <td>3.000000</td>\n",
       "      <td>3.000000</td>\n",
       "      <td>4.000000</td>\n",
       "    </tr>\n",
       "    <tr>\n",
       "      <th>50%</th>\n",
       "      <td>1.000000</td>\n",
       "      <td>5.000000</td>\n",
       "      <td>3.000000</td>\n",
       "      <td>3.000000</td>\n",
       "      <td>4.000000</td>\n",
       "      <td>4.000000</td>\n",
       "      <td>4.000000</td>\n",
       "    </tr>\n",
       "    <tr>\n",
       "      <th>75%</th>\n",
       "      <td>1.000000</td>\n",
       "      <td>5.000000</td>\n",
       "      <td>3.000000</td>\n",
       "      <td>4.000000</td>\n",
       "      <td>4.000000</td>\n",
       "      <td>4.000000</td>\n",
       "      <td>5.000000</td>\n",
       "    </tr>\n",
       "    <tr>\n",
       "      <th>max</th>\n",
       "      <td>1.000000</td>\n",
       "      <td>5.000000</td>\n",
       "      <td>5.000000</td>\n",
       "      <td>5.000000</td>\n",
       "      <td>5.000000</td>\n",
       "      <td>5.000000</td>\n",
       "      <td>5.000000</td>\n",
       "    </tr>\n",
       "  </tbody>\n",
       "</table>\n",
       "</div>"
      ],
      "text/plain": [
       "       happinessStatus      onTime  expectedContents  allOrdered   goodPrice  \\\n",
       "count       126.000000  126.000000        126.000000  126.000000  126.000000   \n",
       "mean          0.547619    4.333333          2.531746    3.309524    3.746032   \n",
       "std           0.499714    0.800000          1.114892    1.023440    0.875776   \n",
       "min           0.000000    1.000000          1.000000    1.000000    1.000000   \n",
       "25%           0.000000    4.000000          2.000000    3.000000    3.000000   \n",
       "50%           1.000000    5.000000          3.000000    3.000000    4.000000   \n",
       "75%           1.000000    5.000000          3.000000    4.000000    4.000000   \n",
       "max           1.000000    5.000000          5.000000    5.000000    5.000000   \n",
       "\n",
       "       orderSatisfication  easyOrdering  \n",
       "count          126.000000    126.000000  \n",
       "mean             3.650794      4.253968  \n",
       "std              1.147641      0.809311  \n",
       "min              1.000000      1.000000  \n",
       "25%              3.000000      4.000000  \n",
       "50%              4.000000      4.000000  \n",
       "75%              4.000000      5.000000  \n",
       "max              5.000000      5.000000  "
      ]
     },
     "execution_count": 4,
     "metadata": {},
     "output_type": "execute_result"
    }
   ],
   "source": [
    "data.describe()"
   ]
  },
  {
   "cell_type": "code",
   "execution_count": 5,
   "id": "aa7cf6ee",
   "metadata": {},
   "outputs": [],
   "source": [
    "def resultsReport(actual, predictions) :\n",
    "    \n",
    "    # Print F1 Score\n",
    "    print('F1 Score ', f1_score(actual, predictions))\n",
    "    \n",
    "    # Visualize classification report with precision, recall and F1 score\n",
    "    print(classification_report(actual, predictions))\n",
    "\n",
    "    # Create Confusion matrix vector\n",
    "    confMatrix = confusion_matrix(actual, predictions)\n",
    "    dfConfMatrix = pd.DataFrame(confMatrix, index = [i for i in \"01\"], \n",
    "                                columns = [i for i in \"01\"])\n",
    "\n",
    "    # Plot Confusion matrix\n",
    "    sn.heatmap(dfConfMatrix, annot = True)\n",
    "    plt.ylabel('Actual Label')\n",
    "    plt.xlabel('Predicted Label')\n",
    "    plt.show()"
   ]
  },
  {
   "cell_type": "code",
   "execution_count": 6,
   "id": "c0bbced7",
   "metadata": {},
   "outputs": [],
   "source": [
    "def analyzeAttribute(data, colName) :\n",
    "    # Display Average\n",
    "    print(\"Average \" + colName + \" value: \", data[colName].mean())\n",
    "    \n",
    "    # Plot histogram\n",
    "    bins = np.arange(1,7) - 0.5\n",
    "    plt.hist(data[colName], bins)\n",
    "    plt.title(colName)\n",
    "    plt.show()"
   ]
  },
  {
   "cell_type": "code",
   "execution_count": 7,
   "id": "ae85e25f",
   "metadata": {},
   "outputs": [
    {
     "name": "stdout",
     "output_type": "stream",
     "text": [
      "Average onTime value:  4.333333333333333\n"
     ]
    },
    {
     "data": {
      "image/png": "[encoded data removed]",
      "text/plain": [
       "<Figure size 432x288 with 1 Axes>"
      ]
     },
     "metadata": {
      "needs_background": "light"
     },
     "output_type": "display_data"
    },
    {
     "name": "stdout",
     "output_type": "stream",
     "text": [
      "Average expectedContents value:  2.5317460317460316\n"
     ]
    },
    {
     "data": {
      "image/png": "[encoded data removed]",
      "text/plain": [
       "<Figure size 432x288 with 1 Axes>"
      ]
     },
     "metadata": {
      "needs_background": "light"
     },
     "output_type": "display_data"
    },
    {
     "name": "stdout",
     "output_type": "stream",
     "text": [
      "Average allOrdered value:  3.3095238095238093\n"
     ]
    },
    {
     "data": {
      "image/png": "[encoded data removed]",
      "text/plain": [
       "<Figure size 432x288 with 1 Axes>"
      ]
     },
     "metadata": {
      "needs_background": "light"
     },
     "output_type": "display_data"
    },
    {
     "name": "stdout",
     "output_type": "stream",
     "text": [
      "Average goodPrice value:  3.746031746031746\n"
     ]
    },
    {
     "data": {
      "image/png": "[encoded data removed]",
      "text/plain": [
       "<Figure size 432x288 with 1 Axes>"
      ]
     },
     "metadata": {
      "needs_background": "light"
     },
     "output_type": "display_data"
    },
    {
     "name": "stdout",
     "output_type": "stream",
     "text": [
      "Average orderSatisfication value:  3.6507936507936507\n"
     ]
    },
    {
     "data": {
      "image/png": "[encoded data removed]",
      "text/plain": [
       "<Figure size 432x288 with 1 Axes>"
      ]
     },
     "metadata": {
      "needs_background": "light"
     },
     "output_type": "display_data"
    },
    {
     "name": "stdout",
     "output_type": "stream",
     "text": [
      "Average easyOrdering value:  4.253968253968254\n"
     ]
    },
    {
     "data": {
      "image/png": "[encoded data removed]",
      "text/plain": [
       "<Figure size 432x288 with 1 Axes>"
      ]
     },
     "metadata": {
      "needs_background": "light"
     },
     "output_type": "display_data"
    }
   ],
   "source": [
    "for i in range(1,7):\n",
    "    analyzeAttribute(data, data.columns[i])"
   ]
  },
  {
   "cell_type": "markdown",
   "id": "16e24cf5",
   "metadata": {},
   "source": [
    "### Preprocess Data\n",
    "\n",
    "Divide into 80% training, 20% testing"
   ]
  },
  {
   "cell_type": "code",
   "execution_count": 8,
   "id": "f0f382ca",
   "metadata": {},
   "outputs": [],
   "source": [
    "X = data.drop(columns=\"happinessStatus\")\n",
    "y =data[\"happinessStatus\"]\n",
    "\n",
    "\n",
    "# split the data into training and testing data \n",
    "X_train, X_test, y_train, y_test=train_test_split(X, y, test_size=0.2,\n",
    "                                                 random_state=0)\n",
    "\n"
   ]
  },
  {
   "cell_type": "code",
   "execution_count": 9,
   "id": "d2cabf22",
   "metadata": {},
   "outputs": [
    {
     "name": "stdout",
     "output_type": "stream",
     "text": [
      "The X_train shape is: (100, 6)\n",
      "The X_test shape is: (26, 6)\n",
      "The y_train shape is: (100,)\n",
      "The y_test shape is: (26,)\n"
     ]
    }
   ],
   "source": [
    "print(f\"The X_train shape is: {X_train.shape}\")\n",
    "print(f\"The X_test shape is: {X_test.shape}\")\n",
    "print(f\"The y_train shape is: {y_train.shape}\")\n",
    "print(f\"The y_test shape is: {y_test.shape}\")"
   ]
  },
  {
   "cell_type": "markdown",
   "id": "cd8db6cf",
   "metadata": {},
   "source": [
    "### Training Different Models\n",
    "\n",
    "#### 1) K Nearest Neighbours(KNN)"
   ]
  },
  {
   "cell_type": "code",
   "execution_count": 10,
   "id": "c3f32fe0",
   "metadata": {},
   "outputs": [
    {
     "name": "stdout",
     "output_type": "stream",
     "text": [
      "23 0.7499999999999999\n"
     ]
    },
    {
     "data": {
      "image/png": "[encoded data removed]",
      "text/plain": [
       "<Figure size 432x288 with 1 Axes>"
      ]
     },
     "metadata": {
      "needs_background": "light"
     },
     "output_type": "display_data"
    }
   ],
   "source": [
    "from sklearn.neighbors import KNeighborsClassifier\n",
    "\n",
    "krange =range(1,75)\n",
    "results = []\n",
    "\n",
    "# test out a range of different k values\n",
    "for k in krange:\n",
    "    KNN =KNeighborsClassifier(n_neighbors= k)\n",
    "    KNN = KNN.fit(X_train, y_train)\n",
    "    \n",
    "    y_predict  =KNN.predict(X_test)\n",
    "    \n",
    "    results.append(f1_score(y_test, y_predict))\n",
    "    \n",
    "print(results.index(max(results))+1, max(results)) \n",
    "\n",
    "plt.plot(range(1, len(results)+1), results)\n",
    "plt.xlabel(\"K Values\")\n",
    "plt.ylabel(\"F1 Score\")\n",
    "plt.show();"
   ]
  },
  {
   "cell_type": "code",
   "execution_count": 11,
   "id": "d94ff815",
   "metadata": {},
   "outputs": [
    {
     "name": "stdout",
     "output_type": "stream",
     "text": [
      "F1 Score  0.6666666666666666\n",
      "              precision    recall  f1-score   support\n",
      "\n",
      "           0       0.67      0.62      0.64        13\n",
      "           1       0.64      0.69      0.67        13\n",
      "\n",
      "    accuracy                           0.65        26\n",
      "   macro avg       0.65      0.65      0.65        26\n",
      "weighted avg       0.65      0.65      0.65        26\n",
      "\n"
     ]
    },
    {
     "data": {
      "image/png": "[encoded data removed]",
      "text/plain": [
       "<Figure size 432x288 with 2 Axes>"
      ]
     },
     "metadata": {
      "needs_background": "light"
     },
     "output_type": "display_data"
    }
   ],
   "source": [
    "# Recret k nearest neighbours model with max f1 score wher k=10\n",
    "\n",
    "KNN =KNeighborsClassifier(n_neighbors=10)\n",
    "KNN = KNN.fit(X_train, y_train)\n",
    "\n",
    "y_predict=KNN.predict(X_test)\n",
    "\n",
    "resultsReport(y_test, y_predict)"
   ]
  },
  {
   "cell_type": "markdown",
   "id": "87f7effc",
   "metadata": {},
   "source": [
    "### KNN Hyperparameter tuning\n",
    "\n",
    "\n",
    "Create a new KNN model with different setting combinations. zsettings explored are nearest neighbors, weights, algoroithm, leaf size and power."
   ]
  },
  {
   "cell_type": "code",
   "execution_count": 14,
   "id": "5d8f0084",
   "metadata": {},
   "outputs": [
    {
     "name": "stdout",
     "output_type": "stream",
     "text": [
      "0.6666666666666666\n",
      "1_uniform_auto_1_1\n"
     ]
    }
   ],
   "source": [
    "# Hyperparameters list\n",
    "n_neighbors = range(1,20)\n",
    "weights = ['uniform', 'distance']\n",
    "algo = ['auto', 'ball_tree', 'kd_tree', 'brute']\n",
    "leafSize = range(1,30)\n",
    "power = [1,2]\n",
    "\n",
    "# Initialize model tracking variables\n",
    "bestScore = 0\n",
    "hyperParameterString = ''\n",
    "\n",
    "# Loop through combinations of hyperparameters\n",
    "for neigh in n_neighbors :\n",
    "    for weight in weights :\n",
    "        for alg in algo :\n",
    "            for leaf in leafSize :\n",
    "                for p in power:\n",
    "                    # Create model with hyperparameter set\n",
    "                    KNN = KNeighborsClassifier(n_neighbors = neigh,\n",
    "                                               weights = weight,\n",
    "                                               algorithm = alg,\n",
    "                                               leaf_size = leaf,\n",
    "                                               p = p)\n",
    "                    # Fit model to training data\n",
    "                    KNN = KNN.fit(X_train, y_train)\n",
    "\n",
    "                    # Make predictions on test data\n",
    "                    yPredict = KNN.predict(X_test)\n",
    "                    \n",
    "                    # Check if model scores better than any previous model\n",
    "                    if f1_score(y_test, y_predict) > bestScore :\n",
    "                        # Update best score\n",
    "                        bestScore = f1_score(y_test, y_predict)\n",
    "                        # Update hyperparameter String to keep track \n",
    "                        hyperParameterString = str(neigh) + '_' + weight + '_' + alg + '_' + str(leaf) + '_' + str(p)\n",
    "                        \n",
    "\n",
    "\n",
    "\n",
    "# Display results\n",
    "print(bestScore)\n",
    "print(hyperParameterString)"
   ]
  },
  {
   "cell_type": "code",
   "execution_count": 16,
   "id": "ced7a54f",
   "metadata": {},
   "outputs": [
    {
     "name": "stdout",
     "output_type": "stream",
     "text": [
      "F1 Score  0.6428571428571429\n",
      "              precision    recall  f1-score   support\n",
      "\n",
      "           0       0.64      0.54      0.58        13\n",
      "           1       0.60      0.69      0.64        13\n",
      "\n",
      "    accuracy                           0.62        26\n",
      "   macro avg       0.62      0.62      0.61        26\n",
      "weighted avg       0.62      0.62      0.61        26\n",
      "\n"
     ]
    },
    {
     "data": {
      "image/png": "[encoded data removed]",
      "text/plain": [
       "<Figure size 432x288 with 2 Axes>"
      ]
     },
     "metadata": {
      "needs_background": "light"
     },
     "output_type": "display_data"
    }
   ],
   "source": [
    "KNN =KNeighborsClassifier(n_neighbors=14,\n",
    "                         weights=\"uniform\",\n",
    "                         algorithm=\"auto\",\n",
    "                         leaf_size=25,\n",
    "                         p=1)\n",
    "\n",
    "# fit the model\n",
    "KNN =KNN.fit(X_train, y_train)\n",
    "\n",
    "# predict\n",
    "y_predict =KNN.predict(X_test)\n",
    "\n",
    "# show results\n",
    "resultsReport(y_test, y_predict)"
   ]
  },
  {
   "cell_type": "markdown",
   "id": "f6fb3fa6",
   "metadata": {},
   "source": [
    "### 2. Support Vector Machine (SVM)"
   ]
  },
  {
   "cell_type": "code",
   "execution_count": 25,
   "id": "d9d155fc",
   "metadata": {},
   "outputs": [
    {
     "name": "stdout",
     "output_type": "stream",
     "text": [
      "F1 Score  0.5517241379310345\n",
      "              precision    recall  f1-score   support\n",
      "\n",
      "           0       0.50      0.38      0.43        13\n",
      "           1       0.50      0.62      0.55        13\n",
      "\n",
      "    accuracy                           0.50        26\n",
      "   macro avg       0.50      0.50      0.49        26\n",
      "weighted avg       0.50      0.50      0.49        26\n",
      "\n"
     ]
    },
    {
     "data": {
      "image/png": "[encoded data removed]",
      "text/plain": [
       "<Figure size 432x288 with 2 Axes>"
      ]
     },
     "metadata": {
      "needs_background": "light"
     },
     "output_type": "display_data"
    }
   ],
   "source": [
    "from sklearn import svm\n",
    "from sklearn.pipeline import Pipeline\n",
    "from sklearn.preprocessing import StandardScaler\n",
    "\n",
    "# create the model\n",
    "SVM_clf =Pipeline([(\"scale\", StandardScaler()),\n",
    "              (\"SVM\", svm.SVC())])\n",
    "\n",
    "# fit the model\n",
    "SVM_clf=SVM_clf.fit(X_train, y_train)\n",
    "\n",
    "# make prediction on test data \n",
    "y_predict = SVM_clf.predict(X_test)\n",
    "\n",
    "# analyze results and display visual output\n",
    "resultsReport(y_test, y_predict)\n"
   ]
  },
  {
   "cell_type": "markdown",
   "id": "85b4c11c",
   "metadata": {},
   "source": [
    "### Hyperparameter tuning for SVM\n",
    "\n",
    "\n",
    "Create SVM models with every type of hyperparameter combination for kernel type, degree and gamma, keep track of F1 scores and output model with best score."
   ]
  },
  {
   "cell_type": "code",
   "execution_count": 26,
   "id": "93d40360",
   "metadata": {},
   "outputs": [
    {
     "name": "stdout",
     "output_type": "stream",
     "text": [
      "0.5517241379310345\n",
      "linear_1_scale\n"
     ]
    }
   ],
   "source": [
    "# SVM\n",
    "# Hyper parameter options\n",
    "kernelType = ['linear', 'poly', 'rbf', 'sigmoid']#, 'precomputed']\n",
    "degree = [1, 2, 3, 4] # Only applicable for kernel = poly\n",
    "gamma = ['scale', 'auto'] # Only applicable for kernel = rbf poly or sigmoid\n",
    "\n",
    "# Performance trackign variables\n",
    "bestScore = 0\n",
    "hyperParameterString = ''\n",
    "\n",
    "# Loop through hyperparameters and create specific models\n",
    "for k in kernelType :\n",
    "    for d in degree :\n",
    "        for g in gamma :\n",
    "            \n",
    "            # Create models with hyper parameter set\n",
    "            SVM_clf = Pipeline([('scale', StandardScaler()),# Scale inputs to 0 mean and 1 variance\n",
    "                              ('SVM', svm.SVC(kernel=k, degree=d, gamma=g))])\n",
    "            # Train Model\n",
    "            SVM_clf  = SVM_clf.fit(X_train, y_train)\n",
    "            \n",
    "            # Make predictions on test data set\n",
    "            y_pred_svm = SVM_clf.predict(X_test)\n",
    "            \n",
    "            # Check if model produced a score better than the previous best\n",
    "            if f1_score(y_test, y_predict) > bestScore :\n",
    "                # Update best score tracking variable\n",
    "                bestScore = f1_score(y_test, y_predict)\n",
    "                # Update hyperparameter string to keep track of settings that produced the best model\n",
    "                hyperParameterString = k + '_' + str(d) + '_' + g\n",
    "\n",
    "# Display best model result\n",
    "print(bestScore)\n",
    "print(hyperParameterString)"
   ]
  },
  {
   "cell_type": "code",
   "execution_count": 27,
   "id": "7730fa0f",
   "metadata": {},
   "outputs": [
    {
     "name": "stdout",
     "output_type": "stream",
     "text": [
      "F1 Score  0.8000000000000002\n",
      "              precision    recall  f1-score   support\n",
      "\n",
      "           0       0.89      0.62      0.73        13\n",
      "           1       0.71      0.92      0.80        13\n",
      "\n",
      "    accuracy                           0.77        26\n",
      "   macro avg       0.80      0.77      0.76        26\n",
      "weighted avg       0.80      0.77      0.76        26\n",
      "\n"
     ]
    },
    {
     "data": {
      "image/png": "[encoded data removed]",
      "text/plain": [
       "<Figure size 432x288 with 2 Axes>"
      ]
     },
     "metadata": {
      "needs_background": "light"
     },
     "output_type": "display_data"
    }
   ],
   "source": [
    "SVM_clf = Pipeline([('scale', StandardScaler()),# Scale inputs to 0 mean and 1 variance\n",
    "                    ('SVM', svm.SVC(kernel='linear', degree=1, gamma='scale'))])\n",
    "\n",
    "# train the model\n",
    "SVM_clf=SVM_clf.fit(X_train, y_train)\n",
    "\n",
    "# preditc the data\n",
    "y_predict =SVM_clf.predict(X_test)\n",
    "\n",
    "# Display results\n",
    "resultsReport(y_test, y_predict)"
   ]
  },
  {
   "cell_type": "markdown",
   "id": "6f5e6bf1",
   "metadata": {},
   "source": [
    "### 3. Logistic regression"
   ]
  },
  {
   "cell_type": "code",
   "execution_count": 29,
   "id": "a24437bd",
   "metadata": {},
   "outputs": [
    {
     "name": "stdout",
     "output_type": "stream",
     "text": [
      "F1 Score  0.6875\n",
      "              precision    recall  f1-score   support\n",
      "\n",
      "           0       0.71      0.38      0.50        13\n",
      "           1       0.58      0.85      0.69        13\n",
      "\n",
      "    accuracy                           0.62        26\n",
      "   macro avg       0.65      0.62      0.59        26\n",
      "weighted avg       0.65      0.62      0.59        26\n",
      "\n"
     ]
    },
    {
     "data": {
      "image/png": "[encoded data removed]",
      "text/plain": [
       "<Figure size 432x288 with 2 Axes>"
      ]
     },
     "metadata": {
      "needs_background": "light"
     },
     "output_type": "display_data"
    }
   ],
   "source": [
    "from sklearn.linear_model import LogisticRegression\n",
    "# create model\n",
    "logReg = LogisticRegression(max_iter=10000000)\n",
    "\n",
    "# fit the model\n",
    "logReg=logReg.fit(X_train, y_train)\n",
    "\n",
    "# predict the model\n",
    "y_predict =logReg.predict(X_test)\n",
    "\n",
    "# Display results\n",
    "resultsReport(y_test, y_predict)"
   ]
  },
  {
   "cell_type": "markdown",
   "id": "12f263da",
   "metadata": {},
   "source": [
    "The logistic regression model performs poorly as its accuracy is 68% and it has a bias towards predicting happy customers (19) versus unhappy customers (7). Due to these resasons this model will not be chosen."
   ]
  },
  {
   "cell_type": "markdown",
   "id": "6fb0327f",
   "metadata": {},
   "source": [
    "### 4. Gaussian Naive Bays"
   ]
  },
  {
   "cell_type": "code",
   "execution_count": 30,
   "id": "94c97447",
   "metadata": {},
   "outputs": [
    {
     "name": "stdout",
     "output_type": "stream",
     "text": [
      "F1 Score  0.6666666666666667\n",
      "              precision    recall  f1-score   support\n",
      "\n",
      "           0       0.67      0.46      0.55        13\n",
      "           1       0.59      0.77      0.67        13\n",
      "\n",
      "    accuracy                           0.62        26\n",
      "   macro avg       0.63      0.62      0.61        26\n",
      "weighted avg       0.63      0.62      0.61        26\n",
      "\n"
     ]
    },
    {
     "data": {
      "image/png": "[encoded data removed]",
      "text/plain": [
       "<Figure size 432x288 with 2 Axes>"
      ]
     },
     "metadata": {
      "needs_background": "light"
     },
     "output_type": "display_data"
    }
   ],
   "source": [
    "from sklearn.naive_bayes import GaussianNB\n",
    "# create model\n",
    "gnb =GaussianNB()\n",
    "\n",
    "# Train model on trianing dataset\n",
    "gnb =gnb.fit(X_train, y_train)\n",
    "\n",
    "# make prediction on test set\n",
    "y_predict = gnb.predict(X_test)\n",
    "\n",
    "# Display results\n",
    "resultsReport(y_test, y_predict)"
   ]
  },
  {
   "cell_type": "markdown",
   "id": "8ba8c045",
   "metadata": {},
   "source": [
    "Similar to logistic regression the model has a lower accuracy and a bias towards predicting happy customers (17 versus 9). This model will be discarded"
   ]
  },
  {
   "cell_type": "markdown",
   "id": "c2afae6b",
   "metadata": {},
   "source": [
    "### 5. Decision Tree"
   ]
  },
  {
   "cell_type": "code",
   "execution_count": 31,
   "id": "e531b53b",
   "metadata": {},
   "outputs": [
    {
     "name": "stdout",
     "output_type": "stream",
     "text": [
      "F1 Score  0.48000000000000004\n",
      "              precision    recall  f1-score   support\n",
      "\n",
      "           0       0.50      0.54      0.52        13\n",
      "           1       0.50      0.46      0.48        13\n",
      "\n",
      "    accuracy                           0.50        26\n",
      "   macro avg       0.50      0.50      0.50        26\n",
      "weighted avg       0.50      0.50      0.50        26\n",
      "\n"
     ]
    },
    {
     "data": {
      "image/png": "[encoded data removed]",
      "text/plain": [
       "<Figure size 432x288 with 2 Axes>"
      ]
     },
     "metadata": {
      "needs_background": "light"
     },
     "output_type": "display_data"
    }
   ],
   "source": [
    "from sklearn.tree import DecisionTreeClassifier\n",
    "\n",
    "tree=DecisionTreeClassifier()\n",
    "tree.fit(X_train, y_train)\n",
    "\n",
    "y_pred_dt  =tree.predict(X_test)\n",
    "\n",
    "\n",
    "resultsReport(y_test, y_pred_dt)"
   ]
  },
  {
   "cell_type": "markdown",
   "id": "bfb11aba",
   "metadata": {},
   "source": [
    "### Decision Tree Hyperparameter Tuning"
   ]
  },
  {
   "cell_type": "code",
   "execution_count": 32,
   "id": "d1e9e305",
   "metadata": {},
   "outputs": [
    {
     "name": "stdout",
     "output_type": "stream",
     "text": [
      "0.7142857142857142\n",
      "gini_random_3\n"
     ]
    }
   ],
   "source": [
    "# Decision Tree\n",
    "# Hyperparameter options\n",
    "criterion = ['gini', 'entropy']\n",
    "splitter = ['best', 'random']\n",
    "max_depth = range(3,10)\n",
    "\n",
    "# Performance trackign variables\n",
    "bestScore = 0\n",
    "hyperParameterString = ''\n",
    "\n",
    "for c in criterion :\n",
    "    for s in splitter :\n",
    "        for m in max_depth :\n",
    "            tree = DecisionTreeClassifier(criterion=c, splitter=s, max_depth=m)\n",
    "            tree = tree.fit(X_train, y_train)\n",
    "            \n",
    "            y_pred_dt = tree.predict(X_test)\n",
    "            \n",
    "            if f1_score(y_test, y_pred_dt) > bestScore :\n",
    "                bestScore = f1_score(y_test, y_pred_dt)\n",
    "                hyperParameterString = c + '_' + s + '_' + str(m)\n",
    "                \n",
    "print(bestScore)\n",
    "print(hyperParameterString)"
   ]
  },
  {
   "cell_type": "code",
   "execution_count": 33,
   "id": "91f49dbf",
   "metadata": {},
   "outputs": [
    {
     "name": "stdout",
     "output_type": "stream",
     "text": [
      "F1 Score  0.625\n",
      "              precision    recall  f1-score   support\n",
      "\n",
      "           0       0.57      0.31      0.40        13\n",
      "           1       0.53      0.77      0.62        13\n",
      "\n",
      "    accuracy                           0.54        26\n",
      "   macro avg       0.55      0.54      0.51        26\n",
      "weighted avg       0.55      0.54      0.51        26\n",
      "\n"
     ]
    },
    {
     "data": {
      "image/png": "[encoded data removed]",
      "text/plain": [
       "<Figure size 432x288 with 2 Axes>"
      ]
     },
     "metadata": {
      "needs_background": "light"
     },
     "output_type": "display_data"
    }
   ],
   "source": [
    "tree = DecisionTreeClassifier(criterion=\"entropy\",\n",
    "                             splitter=\"random\",\n",
    "                             max_depth=4)\n",
    "tree =tree.fit(X_train, y_train)\n",
    "y_pred_dt=tree.predict(X_test)\n",
    "\n",
    "\n",
    "\n",
    "resultsReport(y_test, y_pred_dt)"
   ]
  },
  {
   "cell_type": "markdown",
   "id": "f8ac6aff",
   "metadata": {},
   "source": [
    "### 6. Random Forest"
   ]
  },
  {
   "cell_type": "code",
   "execution_count": 34,
   "id": "6576e84d",
   "metadata": {},
   "outputs": [
    {
     "name": "stdout",
     "output_type": "stream",
     "text": [
      "F1 Score  0.5517241379310345\n",
      "              precision    recall  f1-score   support\n",
      "\n",
      "           0       0.50      0.38      0.43        13\n",
      "           1       0.50      0.62      0.55        13\n",
      "\n",
      "    accuracy                           0.50        26\n",
      "   macro avg       0.50      0.50      0.49        26\n",
      "weighted avg       0.50      0.50      0.49        26\n",
      "\n"
     ]
    },
    {
     "data": {
      "image/png": "[encoded data removed]",
      "text/plain": [
       "<Figure size 432x288 with 2 Axes>"
      ]
     },
     "metadata": {
      "needs_background": "light"
     },
     "output_type": "display_data"
    }
   ],
   "source": [
    "from sklearn.ensemble import RandomForestClassifier\n",
    "# Create Random Forest classifier with default parameters\n",
    "clf = RandomForestClassifier(n_estimators=8)\n",
    "                             \n",
    "\n",
    "# Fit model to the train set\n",
    "clf.fit(X_train, y_train)\n",
    "\n",
    "# Predict values from the test set\n",
    "y_predict= clf.predict(X_test)\n",
    "\n",
    "resultsReport(y_test, y_predict)"
   ]
  },
  {
   "cell_type": "code",
   "execution_count": 35,
   "id": "112aa502",
   "metadata": {},
   "outputs": [],
   "source": [
    "from sklearn.model_selection import GridSearchCV"
   ]
  },
  {
   "cell_type": "code",
   "execution_count": 37,
   "id": "15c70efe",
   "metadata": {},
   "outputs": [
    {
     "name": "stdout",
     "output_type": "stream",
     "text": [
      "Fitting 3 folds for each of 16 candidates, totalling 48 fits\n",
      "{'max_depth': 6, 'max_features': 'sqrt', 'min_samples_leaf': 0.1, 'n_estimators': 200}\n",
      "0.6295306001188354\n",
      "RandomForestClassifier(max_depth=6, max_features='sqrt', min_samples_leaf=0.1,\n",
      "                       n_estimators=200)\n",
      "\n",
      "Accuracy score to test set: 0.5\n",
      "\n"
     ]
    }
   ],
   "source": [
    "# Create parameters list\n",
    "param_dist = {'n_estimators':[200,300], \n",
    "              'max_depth':[6,8], \n",
    "              'min_samples_leaf':[0.1,0.2], \n",
    "              'max_features':['log2','sqrt']}\n",
    "\n",
    "# Create Random Forest classifier for Grid Search and fit it to train set\n",
    "tree_clf = RandomForestClassifier()\n",
    "tree_cv = GridSearchCV(tree_clf, param_dist, cv = 3, verbose = 1, scoring = 'accuracy',n_jobs = 4)\n",
    "tree_cv.fit(X_train, y_train)\n",
    "\n",
    "# Print parameters of the model\n",
    "print(tree_cv.best_params_)\n",
    "print(tree_cv.best_score_)\n",
    "print(tree_cv.best_estimator_)\n",
    "\n",
    "# Print accuracy score of the model to test set\n",
    "y_pred = tree_cv.predict(X_test)\n",
    "print('\\nAccuracy score to test set: {}\\n'.format(round(accuracy_score(y_test, y_predict),2)))"
   ]
  },
  {
   "cell_type": "code",
   "execution_count": 38,
   "id": "cee269e1",
   "metadata": {},
   "outputs": [
    {
     "name": "stdout",
     "output_type": "stream",
     "text": [
      "[0 0 0 1 1 1 0 0 0 0 0 1 1 0 0 0 1 1 1 1 0 1 1 1 1 0 0 0 0 1 1 0 0 1 0 0 1\n",
      " 1 0 0 1 0 1 1 0 1 1 0 1 0 0 0 1 1 1 1 0 0 1 0 0 1 1 1 0 0 0 1 1 1 1 0 0 1\n",
      " 1 0 1 1 1 1 1 0 1 1 1 1 0 0 0 0 0 1 1 1 0 1 1 1 0 1 1 1 0 0 0 1 1 1 1 1 1\n",
      " 1 1 1 1 1 0 1 1 0 0 1 0 1 1 1]\n"
     ]
    }
   ],
   "source": [
    "from sklearn.model_selection import cross_val_predict\n",
    "\n",
    "predicted_y = cross_val_predict(KNN, X, y, cv=10)\n",
    "print(predicted_y)"
   ]
  },
  {
   "cell_type": "markdown",
   "id": "debf515b",
   "metadata": {},
   "source": [
    "**Support Vector Machine (SVM)** give the highest accuracy and F1 scores, so I chose this model.\n",
    "\n",
    "\n"
   ]
  },
  {
   "cell_type": "code",
   "execution_count": 39,
   "id": "a0b2a7ba",
   "metadata": {},
   "outputs": [
    {
     "name": "stdout",
     "output_type": "stream",
     "text": [
      "\n",
      "Accuracy score to test set: 0.77\n",
      "\n",
      "F1 Score  0.8000000000000002\n",
      "              precision    recall  f1-score   support\n",
      "\n",
      "           0       0.89      0.62      0.73        13\n",
      "           1       0.71      0.92      0.80        13\n",
      "\n",
      "    accuracy                           0.77        26\n",
      "   macro avg       0.80      0.77      0.76        26\n",
      "weighted avg       0.80      0.77      0.76        26\n",
      "\n"
     ]
    },
    {
     "data": {
      "image/png": "[encoded data removed]",
      "text/plain": [
       "<Figure size 432x288 with 2 Axes>"
      ]
     },
     "metadata": {
      "needs_background": "light"
     },
     "output_type": "display_data"
    }
   ],
   "source": [
    "SVM_clf = Pipeline([('scale', StandardScaler()),# Scale inputs to 0 mean and 1 variance\n",
    "                    ('SVM', svm.SVC(kernel='linear', degree=1, gamma='scale'))])\n",
    "\n",
    "# train the model\n",
    "SVM_clf=SVM_clf.fit(X_train, y_train)\n",
    "\n",
    "# preditc the data\n",
    "y_pred_svm =SVM_clf.predict(X_test)\n",
    "print('\\nAccuracy score to test set: {}\\n'.format(round(accuracy_score(y_test, y_pred_svm),2)))\n",
    "resultsReport(y_test, y_pred_svm)"
   ]
  },
  {
   "cell_type": "markdown",
   "id": "b210648c",
   "metadata": {},
   "source": [
    "### Finding feature importances"
   ]
  },
  {
   "cell_type": "code",
   "execution_count": 40,
   "id": "86d2d74f",
   "metadata": {},
   "outputs": [],
   "source": [
    "from sklearn.feature_selection import SelectKBest, chi2\n",
    "\n",
    "bestfeatures =SelectKBest(score_func=chi2, k=5)\n",
    "fit = bestfeatures.fit(X, y)"
   ]
  },
  {
   "cell_type": "code",
   "execution_count": 41,
   "id": "fd62397a",
   "metadata": {},
   "outputs": [],
   "source": [
    "dfscores=pd.DataFrame(fit.scores_)\n",
    "dfcolumns =pd.DataFrame(X.columns)"
   ]
  },
  {
   "cell_type": "code",
   "execution_count": 42,
   "id": "a4a245d2",
   "metadata": {},
   "outputs": [
    {
     "data": {
      "text/html": [
       "<div>\n",
       "<style scoped>\n",
       "    .dataframe tbody tr th:only-of-type {\n",
       "        vertical-align: middle;\n",
       "    }\n",
       "\n",
       "    .dataframe tbody tr th {\n",
       "        vertical-align: top;\n",
       "    }\n",
       "\n",
       "    .dataframe thead th {\n",
       "        text-align: right;\n",
       "    }\n",
       "</style>\n",
       "<table border=\"1\" class=\"dataframe\">\n",
       "  <thead>\n",
       "    <tr style=\"text-align: right;\">\n",
       "      <th></th>\n",
       "      <th>Specs</th>\n",
       "      <th>Score</th>\n",
       "    </tr>\n",
       "  </thead>\n",
       "  <tbody>\n",
       "    <tr>\n",
       "      <th>0</th>\n",
       "      <td>onTime</td>\n",
       "      <td>1.449041</td>\n",
       "    </tr>\n",
       "    <tr>\n",
       "      <th>1</th>\n",
       "      <td>expectedContents</td>\n",
       "      <td>0.036161</td>\n",
       "    </tr>\n",
       "    <tr>\n",
       "      <th>2</th>\n",
       "      <td>allOrdered</td>\n",
       "      <td>0.900104</td>\n",
       "    </tr>\n",
       "    <tr>\n",
       "      <th>3</th>\n",
       "      <td>goodPrice</td>\n",
       "      <td>0.106194</td>\n",
       "    </tr>\n",
       "    <tr>\n",
       "      <th>4</th>\n",
       "      <td>orderSatisfication</td>\n",
       "      <td>2.273286</td>\n",
       "    </tr>\n",
       "    <tr>\n",
       "      <th>5</th>\n",
       "      <td>easyOrdering</td>\n",
       "      <td>0.541070</td>\n",
       "    </tr>\n",
       "  </tbody>\n",
       "</table>\n",
       "</div>"
      ],
      "text/plain": [
       "                Specs     Score\n",
       "0              onTime  1.449041\n",
       "1    expectedContents  0.036161\n",
       "2          allOrdered  0.900104\n",
       "3           goodPrice  0.106194\n",
       "4  orderSatisfication  2.273286\n",
       "5        easyOrdering  0.541070"
      ]
     },
     "execution_count": 42,
     "metadata": {},
     "output_type": "execute_result"
    }
   ],
   "source": [
    "featureScores =pd.concat([dfcolumns, dfscores],axis=1)\n",
    "featureScores.columns= [\"Specs\", \"Score\"]\n",
    "\n",
    "featureScores"
   ]
  },
  {
   "cell_type": "code",
   "execution_count": 43,
   "id": "c2552fa1",
   "metadata": {
    "scrolled": true
   },
   "outputs": [
    {
     "name": "stdout",
     "output_type": "stream",
     "text": [
      "happinessStatus       1.000000\n",
      "onTime                0.280160\n",
      "orderSatisfication    0.224522\n",
      "easyOrdering          0.167669\n",
      "allOrdered            0.150838\n",
      "goodPrice             0.064415\n",
      "expectedContents     -0.024274\n",
      "Name: happinessStatus, dtype: float64\n"
     ]
    },
    {
     "data": {
      "image/png": "[encoded data removed]",
      "text/plain": [
       "<Figure size 720x720 with 2 Axes>"
      ]
     },
     "metadata": {
      "needs_background": "light"
     },
     "output_type": "display_data"
    }
   ],
   "source": [
    "import seaborn as sns\n",
    "\n",
    "corrmat=data.corr()\n",
    "top_corr_features=corrmat.index\n",
    "plt.figure(figsize=(10,10))\n",
    "# plot heatmap\n",
    "g =sns.heatmap(data[top_corr_features].corr(), annot=True, cmap =\"RdYlGn\")\n",
    "print(corrmat['happinessStatus'].sort_values(ascending=False))"
   ]
  },
  {
   "cell_type": "markdown",
   "id": "6d84a2fc",
   "metadata": {},
   "source": [
    "### Conclusion\n",
    "\n",
    "\n",
    "**Support Vector Machine (SVM)** gave the highest accuracy **0.77** and F1 scores **0.80**, so I chose this model.\n",
    "\n",
    "\n",
    "From the correlation heatmap the features correlation to happinessStatus are ranked: \n",
    "   1. onTime, \n",
    "   2. orderSatisfication,\n",
    "   3. easyOrdering,\n",
    "   4. allOrdered, \n",
    "   5. goodPrice, \n",
    "   6. expectedContents. \n",
    "The elimination of features from the model decreased the accuracy.\n",
    "\n",
    "\n",
    "From the permutation ranking of feature importance the features are ranked: \n",
    "   1. onTime, \n",
    "   2. expectedContents, \n",
    "   3. allOrdered, \n",
    "   4. orderSatisfaction, \n",
    "   5. goodPrice, \n",
    "   6. easyOrdering.\n",
    "\n"
   ]
  },
  {
   "cell_type": "code",
   "execution_count": null,
   "id": "cd3d3dd6",
   "metadata": {},
   "outputs": [],
   "source": []
  }
 ],
 "metadata": {
  "kernelspec": {
   "display_name": "Python 3 (ipykernel)",
   "language": "python",
   "name": "python3"
  },
  "language_info": {
   "codemirror_mode": {
    "name": "ipython",
    "version": 3
   },
   "file_extension": ".py",
   "mimetype": "text/x-python",
   "name": "python",
   "nbconvert_exporter": "python",
   "pygments_lexer": "ipython3",
   "version": "3.9.7"
  }
 },
 "nbformat": 4,
 "nbformat_minor": 5
}
